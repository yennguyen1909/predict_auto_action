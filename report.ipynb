{
 "cells": [
  {
   "cell_type": "code",
   "execution_count": 6,
   "id": "c2708d94",
   "metadata": {},
   "outputs": [],
   "source": [
    "import pandas as pd\n",
    "import numpy as np\n",
    "import json"
   ]
  },
  {
   "cell_type": "code",
   "execution_count": 3,
   "id": "21d7a004",
   "metadata": {},
   "outputs": [],
   "source": [
    "data_frequency = pd.read_csv('action_frequency_NVBC.csv')"
   ]
  },
  {
   "cell_type": "code",
   "execution_count": 5,
   "id": "e553b851",
   "metadata": {},
   "outputs": [
    {
     "data": {
      "application/vnd.microsoft.datawrangler.viewer.v0+json": {
       "columns": [
        {
         "name": "index",
         "rawType": "int64",
         "type": "integer"
        },
        {
         "name": "action",
         "rawType": "object",
         "type": "unknown"
        },
        {
         "name": "frequency",
         "rawType": "int64",
         "type": "integer"
        }
       ],
       "ref": "de1a8196-2035-43fe-8439-5a354a4ef337",
       "rows": [
        [
         "0",
         "distributorCfmDeliver",
         "2032499"
        ],
        [
         "1",
         "assignCodPicking",
         "1444438"
        ],
        [
         "2",
         "privateNotePackage",
         "1430543"
        ],
        [
         "3",
         "putPackages2Bag",
         "838847"
        ],
        [
         "4",
         "PickupBill",
         "812609"
        ],
        [
         "5",
         "confirmTmpPickedPackageStatus",
         "811439"
        ],
        [
         "6",
         "updateDeliverWorkshiftByCod",
         "724587"
        ],
        [
         "7",
         "assignBagWithIdentifyBag",
         "723186"
        ],
        [
         "8",
         "verifySessionPackage",
         "689592"
        ],
        [
         "9",
         "verifySessionBags",
         "686533"
        ],
        [
         "10",
         "smartScaleScanningPackage",
         "682191"
        ],
        [
         "11",
         "TransferToBothBill",
         "623364"
        ],
        [
         "12",
         "cfmTransit",
         "612373"
        ],
        [
         "13",
         "updatePickedByCod",
         "541249"
        ],
        [
         "14",
         "PickupCrossProvinceBill",
         "499609"
        ],
        [
         "15",
         "confirmTmpDeliveredPackageStatus",
         "340580"
        ],
        [
         "16",
         "ReturnBill",
         "311508"
        ],
        [
         "17",
         "RefundBill",
         "304210"
        ],
        [
         "18",
         "confirmTmpReturnedPackageStatus",
         "283508"
        ],
        [
         "19",
         "updateReturnedByCod",
         "268049"
        ],
        [
         "20",
         "updateDelayDeliveringByCod",
         "238530"
        ],
        [
         "21",
         "changePackageStatus",
         "227671"
        ],
        [
         "22",
         "distributorCfmReturning",
         "225845"
        ],
        [
         "23",
         "printfPackage",
         "200957"
        ],
        [
         "24",
         "updateDelayPickingByCod",
         "196478"
        ],
        [
         "25",
         "importStationByDistributer",
         "148782"
        ],
        [
         "26",
         "putInBox",
         "133658"
        ],
        [
         "27",
         "changeCodForPackagesInCart",
         "121545"
        ],
        [
         "28",
         "cfmImpPkgFrPONew",
         "116513"
        ],
        [
         "29",
         "saveIsfrageImages",
         "99357"
        ],
        [
         "30",
         "editPackage",
         "95427"
        ],
        [
         "31",
         "approvedDeliveryDate",
         "91084"
        ],
        [
         "32",
         "cfmImportV4JobQ",
         "83520"
        ],
        [
         "33",
         "TransferToBothAcceptBill",
         "79015"
        ],
        [
         "34",
         "changeCurStationBagSurplus",
         "77585"
        ],
        [
         "35",
         "takeReturningPackages",
         "77071"
        ],
        [
         "36",
         "updateDeliverCod",
         "72915"
        ],
        [
         "37",
         "takeDeliveringPackages",
         "70258"
        ],
        [
         "38",
         "updateTmpPickingStatus",
         "67047"
        ],
        [
         "39",
         "ScanPackageToBag",
         "66768"
        ],
        [
         "40",
         "delayPickPackageReason",
         "64957"
        ],
        [
         "41",
         "scanBox",
         "62809"
        ],
        [
         "42",
         "autoReassignDateDeliver",
         "58887"
        ],
        [
         "43",
         "confirmExportBox",
         "56289"
        ],
        [
         "44",
         "changeAttributeForSurplus",
         "50070"
        ],
        [
         "45",
         "updateDeliveredCompletelyByCod",
         "44499"
        ],
        [
         "46",
         "Refund_payment_qrBill",
         "44172"
        ],
        [
         "47",
         "updateNotDeliveredByCod",
         "41073"
        ],
        [
         "48",
         "feedbackReDelivery",
         "40798"
        ],
        [
         "49",
         "updateDeliverWorkShiftPackage",
         "39590"
        ]
       ],
       "shape": {
        "columns": 2,
        "rows": 268
       }
      },
      "text/html": [
       "<div>\n",
       "<style scoped>\n",
       "    .dataframe tbody tr th:only-of-type {\n",
       "        vertical-align: middle;\n",
       "    }\n",
       "\n",
       "    .dataframe tbody tr th {\n",
       "        vertical-align: top;\n",
       "    }\n",
       "\n",
       "    .dataframe thead th {\n",
       "        text-align: right;\n",
       "    }\n",
       "</style>\n",
       "<table border=\"1\" class=\"dataframe\">\n",
       "  <thead>\n",
       "    <tr style=\"text-align: right;\">\n",
       "      <th></th>\n",
       "      <th>action</th>\n",
       "      <th>frequency</th>\n",
       "    </tr>\n",
       "  </thead>\n",
       "  <tbody>\n",
       "    <tr>\n",
       "      <th>0</th>\n",
       "      <td>distributorCfmDeliver</td>\n",
       "      <td>2032499</td>\n",
       "    </tr>\n",
       "    <tr>\n",
       "      <th>1</th>\n",
       "      <td>assignCodPicking</td>\n",
       "      <td>1444438</td>\n",
       "    </tr>\n",
       "    <tr>\n",
       "      <th>2</th>\n",
       "      <td>privateNotePackage</td>\n",
       "      <td>1430543</td>\n",
       "    </tr>\n",
       "    <tr>\n",
       "      <th>3</th>\n",
       "      <td>putPackages2Bag</td>\n",
       "      <td>838847</td>\n",
       "    </tr>\n",
       "    <tr>\n",
       "      <th>4</th>\n",
       "      <td>PickupBill</td>\n",
       "      <td>812609</td>\n",
       "    </tr>\n",
       "    <tr>\n",
       "      <th>...</th>\n",
       "      <td>...</td>\n",
       "      <td>...</td>\n",
       "    </tr>\n",
       "    <tr>\n",
       "      <th>263</th>\n",
       "      <td>returnPackageAtStation</td>\n",
       "      <td>2</td>\n",
       "    </tr>\n",
       "    <tr>\n",
       "      <th>264</th>\n",
       "      <td>putPackages2QsBag</td>\n",
       "      <td>2</td>\n",
       "    </tr>\n",
       "    <tr>\n",
       "      <th>265</th>\n",
       "      <td>changePackagesTransport</td>\n",
       "      <td>1</td>\n",
       "    </tr>\n",
       "    <tr>\n",
       "      <th>266</th>\n",
       "      <td>exportBigSizeReturnPackages</td>\n",
       "      <td>1</td>\n",
       "    </tr>\n",
       "    <tr>\n",
       "      <th>267</th>\n",
       "      <td>cancelNewPackage</td>\n",
       "      <td>1</td>\n",
       "    </tr>\n",
       "  </tbody>\n",
       "</table>\n",
       "<p>268 rows × 2 columns</p>\n",
       "</div>"
      ],
      "text/plain": [
       "                          action  frequency\n",
       "0          distributorCfmDeliver    2032499\n",
       "1               assignCodPicking    1444438\n",
       "2             privateNotePackage    1430543\n",
       "3                putPackages2Bag     838847\n",
       "4                     PickupBill     812609\n",
       "..                           ...        ...\n",
       "263       returnPackageAtStation          2\n",
       "264            putPackages2QsBag          2\n",
       "265      changePackagesTransport          1\n",
       "266  exportBigSizeReturnPackages          1\n",
       "267             cancelNewPackage          1\n",
       "\n",
       "[268 rows x 2 columns]"
      ]
     },
     "execution_count": 5,
     "metadata": {},
     "output_type": "execute_result"
    }
   ],
   "source": [
    "data_frequency"
   ]
  },
  {
   "cell_type": "code",
   "execution_count": 9,
   "id": "40f5bc55",
   "metadata": {},
   "outputs": [],
   "source": [
    "with open(\"Action_Analysis.json\", \"r\", encoding=\"utf-8\") as f:\n",
    "    json_data = json.load(f)"
   ]
  },
  {
   "cell_type": "code",
   "execution_count": 10,
   "id": "e22aaa55",
   "metadata": {},
   "outputs": [],
   "source": [
    "records = json_data[0][\"json\"][\"input\"][\"data\"]"
   ]
  },
  {
   "cell_type": "code",
   "execution_count": 14,
   "id": "0da487d4",
   "metadata": {},
   "outputs": [],
   "source": [
    "action_type = pd.DataFrame(records)"
   ]
  },
  {
   "cell_type": "code",
   "execution_count": 15,
   "id": "54e3fe79",
   "metadata": {},
   "outputs": [
    {
     "data": {
      "application/vnd.microsoft.datawrangler.viewer.v0+json": {
       "columns": [
        {
         "name": "index",
         "rawType": "int64",
         "type": "integer"
        },
        {
         "name": "action",
         "rawType": "object",
         "type": "string"
        },
        {
         "name": "type_condition",
         "rawType": "object",
         "type": "unknown"
        },
        {
         "name": "content_condition",
         "rawType": "object",
         "type": "unknown"
        },
        {
         "name": "composite_conditions",
         "rawType": "object",
         "type": "string"
        },
        {
         "name": "type_action",
         "rawType": "object",
         "type": "string"
        }
       ],
       "ref": "792d9c03-07a9-43f7-9bbc-6f635ce59439",
       "rows": [
        [
         "0",
         "cfmImportV4JobQ",
         "['Existence check']",
         "['State/status conditions']",
         "",
         "Integration"
        ],
        [
         "1",
         "changeReturnAddress",
         "['Data integrity', 'Data format', 'Existence check']",
         "['Business rule conditions']",
         "",
         "Transformation"
        ],
        [
         "2",
         "updatePartDeliveredByCod",
         "['Existence check']",
         "['State/status conditions']",
         "",
         "Integration"
        ],
        [
         "3",
         "updateStoreFeeJob",
         "['Data range', 'Data format']",
         "['Business rule conditions']",
         "",
         "Integration"
        ],
        [
         "4",
         "YCCKCheckinPackage",
         "['Existence check']",
         "['State/status conditions']",
         "",
         "Integration"
        ],
        [
         "5",
         "takeOutBagToUpdateStationPackage",
         "['Existence check']",
         "['State/status conditions']",
         "",
         "Integration"
        ],
        [
         "6",
         "updateStationPackage",
         "['Existence check']",
         "['State/status conditions']",
         "",
         "Integration"
        ],
        [
         "7",
         "verifySessionBags",
         "['Existence check', 'Data range']",
         "['State/status conditions']",
         "",
         "Integration"
        ],
        [
         "8",
         "confirmReceivePkg",
         "['Existence check', 'Timing conditions']",
         "['State/status conditions']",
         "",
         "Integration"
        ],
        [
         "9",
         "shopRequestChangePickAddress",
         "['Data integrity', 'Data format', 'Existence check']",
         "['Business rule conditions']",
         "",
         "Integration"
        ],
        [
         "10",
         "shopRequestChangeCusName",
         "['Data integrity', 'Data format']",
         "['Business rule conditions']",
         "",
         "Integration"
        ],
        [
         "11",
         "changeComingReturnCodAction",
         "['Existence check']",
         "['Business rule conditions']",
         "",
         "Integration"
        ],
        [
         "12",
         "assignCodPicking",
         "['Existence check']",
         "['Business rule conditions']",
         "",
         "Integration"
        ],
        [
         "13",
         "delayReturnPackageReason",
         "['Existence check']",
         "['Business rule conditions']",
         "",
         "Integration"
        ],
        [
         "14",
         "CustomerComponent::changeCustomerTel",
         "['Data integrity', 'Data format']",
         "['Business rule conditions']",
         "",
         "Transformation"
        ],
        [
         "15",
         "createBbsImportStationHOMinutes",
         "['Existence check', 'Data format']",
         "['State/status conditions']",
         "",
         "Integration"
        ],
        [
         "16",
         "addVoteByShop",
         "['Data range']",
         "['Business rule conditions']",
         "",
         "Integration"
        ],
        [
         "17",
         "tipCod",
         "['Data range', 'Existence check']",
         "['Business rule conditions']",
         "",
         "Integration"
        ],
        [
         "18",
         "changePickAddress",
         "['Data integrity', 'Data format', 'Existence check']",
         "['Business rule conditions']",
         "",
         "Transformation"
        ],
        [
         "19",
         "cfmTransitPickLog",
         "['Existence check', 'Timing conditions']",
         "['State/status conditions']",
         "",
         "Integration"
        ],
        [
         "20",
         "cancelExportDeliver",
         "['Existence check']",
         "['Business rule conditions']",
         "",
         "Integration"
        ],
        [
         "21",
         "updateTmpDeliveringStatus",
         "['Existence check']",
         "['State/status conditions']",
         "",
         "Integration"
        ],
        [
         "22",
         "editPackage",
         "['Existence check']",
         "['Business rule conditions']",
         "",
         "Transformation"
        ],
        [
         "23",
         "updatePackageStatusByXTeam",
         "['Existence check']",
         "['State/status conditions']",
         "",
         "Integration"
        ],
        [
         "24",
         "ScanPackageToBag",
         "['Existence check']",
         "['State/status conditions']",
         "",
         "Integration"
        ],
        [
         "25",
         "pushTeamCOD",
         "['Existence check']",
         "['Business rule conditions']",
         "",
         "Integration"
        ],
        [
         "26",
         "updatePredictTime",
         "['Timing conditions']",
         "['Business rule conditions']",
         "",
         "Transformation"
        ],
        [
         "27",
         "checkPackageBBS",
         "['Existence check', 'Data range']",
         "['State/status conditions']",
         "",
         "Integration"
        ],
        [
         "28",
         "updateSrcStationByChangeWorkshift",
         "['Existence check']",
         "['Business rule conditions']",
         "",
         "Transformation"
        ],
        [
         "29",
         "deleteOnRouteBag",
         "['Existence check']",
         "['State/status conditions']",
         "",
         "Integration"
        ],
        [
         "30",
         "changeCodDeliveringPackages",
         "['Existence check']",
         "['Business rule conditions']",
         "",
         "Integration"
        ],
        [
         "31",
         "importPackageIntoLocker",
         "['Existence check', 'Resource/Capacity conditions']",
         "['State/status conditions']",
         "",
         "Integration"
        ],
        [
         "32",
         "cancelHandoverWithDTeamBox",
         "['Existence check']",
         "['State/status conditions']",
         "",
         "Integration"
        ],
        [
         "33",
         "exportB2CPickingPackages",
         "['Existence check']",
         "['State/status conditions']",
         "",
         "Integration"
        ],
        [
         "34",
         "updatePickOption",
         "['Existence check']",
         "['Business rule conditions']",
         "",
         "Transformation"
        ],
        [
         "35",
         "getOutPackages",
         "['Existence check', 'Timing conditions']",
         "['State/status conditions']",
         "",
         "Integration"
        ],
        [
         "36",
         "confirmBigSizeQuantity",
         "['Data range', 'Existence check']",
         "['State/status conditions']",
         "",
         "Integration"
        ],
        [
         "37",
         "UpdatePickCodByDriverTakePackage",
         "['Existence check']",
         "['Business rule conditions']",
         "",
         "Integration"
        ],
        [
         "38",
         "autoReassignPickCart",
         "['Existence check']",
         "['Business rule conditions']",
         "",
         "Integration"
        ],
        [
         "39",
         "Refund_paymentBill",
         "['Existence check']",
         "['Business rule conditions']",
         "",
         "Integration"
        ],
        [
         "40",
         "RequestRedeliverAction",
         "['Existence check']",
         "['Business rule conditions']",
         "",
         "Integration"
        ],
        [
         "41",
         "editAddressPackage",
         "['Data integrity', 'Data format', 'Existence check']",
         "['Business rule conditions']",
         "",
         "Transformation"
        ],
        [
         "42",
         "smartScaleScanningPackage",
         "['Data integrity', 'Data format', 'Data range', 'Existence check']",
         "['State/status conditions']",
         "",
         "Integration"
        ],
        [
         "43",
         "printPackageBBS",
         "['Data range', 'Existence check']",
         "['State/status conditions']",
         "",
         "Integration"
        ],
        [
         "44",
         "HvcBulkPackageImportTcStation",
         "['Existence check']",
         "['State/status conditions']",
         "",
         "Integration"
        ],
        [
         "45",
         "CODUpdatePickMoney",
         "['Data range', 'Existence check']",
         "['Business rule conditions']",
         "",
         "Transformation"
        ],
        [
         "46",
         "notPickedPackageReason",
         "['Existence check']",
         "['Business rule conditions']",
         "",
         "Integration"
        ],
        [
         "47",
         "RescanCheckinPackage",
         "['Existence check']",
         "['State/status conditions']",
         "",
         "Integration"
        ],
        [
         "48",
         "csCancelPackage",
         "['Existence check']",
         "['Business rule conditions']",
         "",
         "Integration"
        ],
        [
         "49",
         "privateNoteIssueRefundLego",
         "['Existence check', 'Timing conditions']",
         "['Business rule conditions']",
         "",
         "Integration"
        ]
       ],
       "shape": {
        "columns": 5,
        "rows": 504
       }
      },
      "text/html": [
       "<div>\n",
       "<style scoped>\n",
       "    .dataframe tbody tr th:only-of-type {\n",
       "        vertical-align: middle;\n",
       "    }\n",
       "\n",
       "    .dataframe tbody tr th {\n",
       "        vertical-align: top;\n",
       "    }\n",
       "\n",
       "    .dataframe thead th {\n",
       "        text-align: right;\n",
       "    }\n",
       "</style>\n",
       "<table border=\"1\" class=\"dataframe\">\n",
       "  <thead>\n",
       "    <tr style=\"text-align: right;\">\n",
       "      <th></th>\n",
       "      <th>action</th>\n",
       "      <th>type_condition</th>\n",
       "      <th>content_condition</th>\n",
       "      <th>composite_conditions</th>\n",
       "      <th>type_action</th>\n",
       "    </tr>\n",
       "  </thead>\n",
       "  <tbody>\n",
       "    <tr>\n",
       "      <th>0</th>\n",
       "      <td>cfmImportV4JobQ</td>\n",
       "      <td>[Existence check]</td>\n",
       "      <td>[State/status conditions]</td>\n",
       "      <td></td>\n",
       "      <td>Integration</td>\n",
       "    </tr>\n",
       "    <tr>\n",
       "      <th>1</th>\n",
       "      <td>changeReturnAddress</td>\n",
       "      <td>[Data integrity, Data format, Existence check]</td>\n",
       "      <td>[Business rule conditions]</td>\n",
       "      <td></td>\n",
       "      <td>Transformation</td>\n",
       "    </tr>\n",
       "    <tr>\n",
       "      <th>2</th>\n",
       "      <td>updatePartDeliveredByCod</td>\n",
       "      <td>[Existence check]</td>\n",
       "      <td>[State/status conditions]</td>\n",
       "      <td></td>\n",
       "      <td>Integration</td>\n",
       "    </tr>\n",
       "    <tr>\n",
       "      <th>3</th>\n",
       "      <td>updateStoreFeeJob</td>\n",
       "      <td>[Data range, Data format]</td>\n",
       "      <td>[Business rule conditions]</td>\n",
       "      <td></td>\n",
       "      <td>Integration</td>\n",
       "    </tr>\n",
       "    <tr>\n",
       "      <th>4</th>\n",
       "      <td>YCCKCheckinPackage</td>\n",
       "      <td>[Existence check]</td>\n",
       "      <td>[State/status conditions]</td>\n",
       "      <td></td>\n",
       "      <td>Integration</td>\n",
       "    </tr>\n",
       "    <tr>\n",
       "      <th>...</th>\n",
       "      <td>...</td>\n",
       "      <td>...</td>\n",
       "      <td>...</td>\n",
       "      <td>...</td>\n",
       "      <td>...</td>\n",
       "    </tr>\n",
       "    <tr>\n",
       "      <th>499</th>\n",
       "      <td>changeCodForReturningPackagesInCart</td>\n",
       "      <td>[Existence check]</td>\n",
       "      <td>[Resource/Capacity conditions]</td>\n",
       "      <td></td>\n",
       "      <td>Transformation</td>\n",
       "    </tr>\n",
       "    <tr>\n",
       "      <th>500</th>\n",
       "      <td>delayExplosivePoint</td>\n",
       "      <td>[Data format, Data range]</td>\n",
       "      <td>[Timing conditions]</td>\n",
       "      <td></td>\n",
       "      <td>Logic</td>\n",
       "    </tr>\n",
       "    <tr>\n",
       "      <th>501</th>\n",
       "      <td>autoAssignPackageForPickCod</td>\n",
       "      <td>[Existence check]</td>\n",
       "      <td>[State/status conditions, Business rule condit...</td>\n",
       "      <td>NOT</td>\n",
       "      <td>Logic</td>\n",
       "    </tr>\n",
       "    <tr>\n",
       "      <th>502</th>\n",
       "      <td>deletePackage</td>\n",
       "      <td>[Existence check]</td>\n",
       "      <td>[State/status conditions]</td>\n",
       "      <td></td>\n",
       "      <td>Integration</td>\n",
       "    </tr>\n",
       "    <tr>\n",
       "      <th>503</th>\n",
       "      <td>removeDiscountCoupon</td>\n",
       "      <td>[Existence check]</td>\n",
       "      <td>[Business rule conditions]</td>\n",
       "      <td></td>\n",
       "      <td>Integration</td>\n",
       "    </tr>\n",
       "  </tbody>\n",
       "</table>\n",
       "<p>504 rows × 5 columns</p>\n",
       "</div>"
      ],
      "text/plain": [
       "                                  action  \\\n",
       "0                        cfmImportV4JobQ   \n",
       "1                    changeReturnAddress   \n",
       "2               updatePartDeliveredByCod   \n",
       "3                      updateStoreFeeJob   \n",
       "4                     YCCKCheckinPackage   \n",
       "..                                   ...   \n",
       "499  changeCodForReturningPackagesInCart   \n",
       "500                  delayExplosivePoint   \n",
       "501          autoAssignPackageForPickCod   \n",
       "502                        deletePackage   \n",
       "503                 removeDiscountCoupon   \n",
       "\n",
       "                                     type_condition  \\\n",
       "0                                 [Existence check]   \n",
       "1    [Data integrity, Data format, Existence check]   \n",
       "2                                 [Existence check]   \n",
       "3                         [Data range, Data format]   \n",
       "4                                 [Existence check]   \n",
       "..                                              ...   \n",
       "499                               [Existence check]   \n",
       "500                       [Data format, Data range]   \n",
       "501                               [Existence check]   \n",
       "502                               [Existence check]   \n",
       "503                               [Existence check]   \n",
       "\n",
       "                                     content_condition composite_conditions  \\\n",
       "0                            [State/status conditions]                        \n",
       "1                           [Business rule conditions]                        \n",
       "2                            [State/status conditions]                        \n",
       "3                           [Business rule conditions]                        \n",
       "4                            [State/status conditions]                        \n",
       "..                                                 ...                  ...   \n",
       "499                     [Resource/Capacity conditions]                        \n",
       "500                                [Timing conditions]                        \n",
       "501  [State/status conditions, Business rule condit...                  NOT   \n",
       "502                          [State/status conditions]                        \n",
       "503                         [Business rule conditions]                        \n",
       "\n",
       "        type_action  \n",
       "0       Integration  \n",
       "1    Transformation  \n",
       "2       Integration  \n",
       "3       Integration  \n",
       "4       Integration  \n",
       "..              ...  \n",
       "499  Transformation  \n",
       "500           Logic  \n",
       "501           Logic  \n",
       "502     Integration  \n",
       "503     Integration  \n",
       "\n",
       "[504 rows x 5 columns]"
      ]
     },
     "execution_count": 15,
     "metadata": {},
     "output_type": "execute_result"
    }
   ],
   "source": [
    "action_type"
   ]
  },
  {
   "cell_type": "code",
   "execution_count": 20,
   "id": "4d27a6cd",
   "metadata": {},
   "outputs": [],
   "source": [
    "data_final = pd.merge(data_frequency, action_type, on=\"action\", how=\"left\")"
   ]
  },
  {
   "cell_type": "code",
   "execution_count": 21,
   "id": "09a4b345",
   "metadata": {},
   "outputs": [
    {
     "data": {
      "application/vnd.microsoft.datawrangler.viewer.v0+json": {
       "columns": [
        {
         "name": "index",
         "rawType": "int64",
         "type": "integer"
        },
        {
         "name": "action",
         "rawType": "object",
         "type": "unknown"
        },
        {
         "name": "frequency",
         "rawType": "int64",
         "type": "integer"
        },
        {
         "name": "type_condition",
         "rawType": "object",
         "type": "unknown"
        },
        {
         "name": "content_condition",
         "rawType": "object",
         "type": "unknown"
        },
        {
         "name": "composite_conditions",
         "rawType": "object",
         "type": "unknown"
        },
        {
         "name": "type_action",
         "rawType": "object",
         "type": "unknown"
        }
       ],
       "ref": "ee8bd032-c20e-4bd8-99a0-32c5a911ea66",
       "rows": [
        [
         "0",
         "distributorCfmDeliver",
         "2032499",
         "['Existence check']",
         "['Resource/Capacity conditions']",
         "",
         "Integration"
        ],
        [
         "1",
         "assignCodPicking",
         "1444438",
         "['Existence check']",
         "['Business rule conditions']",
         "",
         "Integration"
        ],
        [
         "2",
         "privateNotePackage",
         "1430543",
         "['Existence check']",
         "['Business rule conditions']",
         "",
         "Transformation"
        ],
        [
         "3",
         "putPackages2Bag",
         "838847",
         "['Existence check']",
         "['State/status conditions']",
         "",
         "Transformation"
        ],
        [
         "4",
         "PickupBill",
         "812609",
         "['Existence check']",
         "['Resource/Capacity conditions']",
         "",
         "Integration"
        ],
        [
         "5",
         "confirmTmpPickedPackageStatus",
         "811439",
         "['Data integrity']",
         "['State/status conditions']",
         "",
         "Transformation"
        ],
        [
         "6",
         "updateDeliverWorkshiftByCod",
         "724587",
         "['Timing conditions', 'Data integrity']",
         "['Business rule conditions']",
         "AND",
         "Transformation"
        ],
        [
         "7",
         "assignBagWithIdentifyBag",
         "723186",
         "['Existence check']",
         "['State/status conditions']",
         "",
         "Integration"
        ],
        [
         "8",
         "verifySessionPackage",
         "689592",
         "['Existence check']",
         "['State/status conditions']",
         "",
         "Integration"
        ],
        [
         "9",
         "verifySessionBags",
         "686533",
         "['Existence check', 'Data range']",
         "['State/status conditions']",
         "",
         "Integration"
        ],
        [
         "10",
         "smartScaleScanningPackage",
         "682191",
         "['Data integrity', 'Data format', 'Data range', 'Existence check']",
         "['State/status conditions']",
         "",
         "Integration"
        ],
        [
         "11",
         "TransferToBothBill",
         "623364",
         "['Existence check']",
         "['Business rule conditions']",
         "",
         "Transformation"
        ],
        [
         "12",
         "cfmTransit",
         "612373",
         "['Existence check', 'Data integrity']",
         "['State/status conditions']",
         "",
         "Integration"
        ],
        [
         "13",
         "updatePickedByCod",
         "541249",
         "['Data integrity']",
         "['State/status conditions']",
         "",
         "Transformation"
        ],
        [
         "14",
         "PickupCrossProvinceBill",
         "499609",
         "['Existence check', 'Data integrity']",
         "['State/status conditions']",
         "",
         "Integration"
        ],
        [
         "15",
         "confirmTmpDeliveredPackageStatus",
         "340580",
         "['Data integrity']",
         "['State/status conditions']",
         "",
         "Transformation"
        ],
        [
         "16",
         "ReturnBill",
         "311508",
         "['Existence check']",
         "['Business rule conditions']",
         "",
         "Integration"
        ],
        [
         "17",
         "RefundBill",
         "304210",
         "['Existence check']",
         "['Business rule conditions']",
         "",
         "Integration"
        ],
        [
         "18",
         "confirmTmpReturnedPackageStatus",
         "283508",
         "['Data integrity']",
         "['State/status conditions']",
         "",
         "Transformation"
        ],
        [
         "19",
         "updateReturnedByCod",
         "268049",
         "['State/status conditions']",
         "['Business rule conditions']",
         "",
         "Transformation"
        ],
        [
         "20",
         "updateDelayDeliveringByCod",
         "238530",
         "['State/status conditions']",
         "['Business rule conditions']",
         "",
         "Transformation"
        ],
        [
         "21",
         "changePackageStatus",
         "227671",
         "['Existence check']",
         "['State/status conditions', 'Business rule conditions']",
         "",
         "Integration"
        ],
        [
         "22",
         "distributorCfmReturning",
         "225845",
         "['Existence check']",
         "['Authentication/Authorization conditions']",
         "",
         "Integration"
        ],
        [
         "23",
         "printfPackage",
         "200957",
         "['Existence check']",
         "['Resource/Capacity conditions']",
         "",
         "Integration"
        ],
        [
         "24",
         "updateDelayPickingByCod",
         "196478",
         "['Data integrity']",
         "['State/status conditions']",
         "",
         "Transformation"
        ],
        [
         "25",
         "importStationByDistributer",
         "148782",
         "['Existence check']",
         "['State/status conditions']",
         "",
         "Integration"
        ],
        [
         "26",
         "putInBox",
         "133658",
         "['Existence check']",
         "['State/status conditions']",
         "",
         "Transformation"
        ],
        [
         "27",
         "changeCodForPackagesInCart",
         "121545",
         "['Existence check']",
         "['Resource/Capacity conditions']",
         "",
         "Transformation"
        ],
        [
         "28",
         "cfmImpPkgFrPONew",
         "116513",
         "['Data integrity']",
         "['State/status conditions']",
         "",
         "Transformation"
        ],
        [
         "29",
         "saveIsfrageImages",
         "99357",
         "['Data integrity']",
         "['State/status conditions']",
         "",
         "Integration"
        ],
        [
         "30",
         "editPackage",
         "95427",
         "['Existence check']",
         "['Business rule conditions']",
         "",
         "Transformation"
        ],
        [
         "31",
         "approvedDeliveryDate",
         "91084",
         "['Data integrity', 'Data format']",
         "['Timing conditions', 'Business rule conditions']",
         "",
         "Integration"
        ],
        [
         "32",
         "cfmImportV4JobQ",
         "83520",
         "['Existence check']",
         "['State/status conditions']",
         "",
         "Integration"
        ],
        [
         "33",
         "TransferToBothAcceptBill",
         "79015",
         "['Existence check']",
         "['Business rule conditions']",
         "",
         "Transformation"
        ],
        [
         "34",
         "changeCurStationBagSurplus",
         "77585",
         "['Data integrity']",
         "['Business rule conditions']",
         "",
         "Transformation"
        ],
        [
         "35",
         "takeReturningPackages",
         "77071",
         "['Existence check']",
         "['State/status conditions']",
         "",
         "Integration"
        ],
        [
         "36",
         "updateDeliverCod",
         "72915",
         "['Existence check', 'Data integrity']",
         "['State/status conditions']",
         "",
         "Transformation"
        ],
        [
         "37",
         "takeDeliveringPackages",
         "70258",
         "['Existence check']",
         "['Resource/Capacity conditions']",
         "",
         "Integration"
        ],
        [
         "38",
         "updateTmpPickingStatus",
         "67047",
         "['Existence check']",
         "['State/status conditions']",
         "",
         "Integration"
        ],
        [
         "39",
         "ScanPackageToBag",
         "66768",
         "['Existence check']",
         "['State/status conditions']",
         "",
         "Integration"
        ],
        [
         "40",
         "delayPickPackageReason",
         "64957",
         "['Existence check']",
         "['Business rule conditions']",
         "",
         "Transformation"
        ],
        [
         "41",
         "scanBox",
         "62809",
         "['Existence check']",
         "['State/status conditions', 'Resource/Capacity conditions']",
         "",
         "Integration"
        ],
        [
         "42",
         "autoReassignDateDeliver",
         "58887",
         "['Timing conditions']",
         "['Business rule conditions']",
         "",
         "Transformation"
        ],
        [
         "43",
         "confirmExportBox",
         "56289",
         "['Existence check', 'Data integrity']",
         "['Timing conditions']",
         "",
         "Integration"
        ],
        [
         "44",
         "changeAttributeForSurplus",
         "50070",
         "['Existence check']",
         "['Resource/Capacity conditions']",
         "",
         "Integration"
        ],
        [
         "45",
         "updateDeliveredCompletelyByCod",
         "44499",
         "['State/status conditions']",
         "['Business rule conditions']",
         "",
         "Transformation"
        ],
        [
         "46",
         "Refund_payment_qrBill",
         "44172",
         "['Existence check', 'Data integrity']",
         "['State/status conditions']",
         "",
         "Integration"
        ],
        [
         "47",
         "updateNotDeliveredByCod",
         "41073",
         "['State/status conditions']",
         "['Business rule conditions']",
         "",
         "Transformation"
        ],
        [
         "48",
         "feedbackReDelivery",
         "40798",
         "['Existence check', 'Timing conditions']",
         "['Business rule conditions']",
         "",
         "Integration"
        ],
        [
         "49",
         "updateDeliverWorkShiftPackage",
         "39590",
         "['Data integrity', 'Data format']",
         "['Timing conditions']",
         "",
         "Transformation"
        ]
       ],
       "shape": {
        "columns": 6,
        "rows": 268
       }
      },
      "text/html": [
       "<div>\n",
       "<style scoped>\n",
       "    .dataframe tbody tr th:only-of-type {\n",
       "        vertical-align: middle;\n",
       "    }\n",
       "\n",
       "    .dataframe tbody tr th {\n",
       "        vertical-align: top;\n",
       "    }\n",
       "\n",
       "    .dataframe thead th {\n",
       "        text-align: right;\n",
       "    }\n",
       "</style>\n",
       "<table border=\"1\" class=\"dataframe\">\n",
       "  <thead>\n",
       "    <tr style=\"text-align: right;\">\n",
       "      <th></th>\n",
       "      <th>action</th>\n",
       "      <th>frequency</th>\n",
       "      <th>type_condition</th>\n",
       "      <th>content_condition</th>\n",
       "      <th>composite_conditions</th>\n",
       "      <th>type_action</th>\n",
       "    </tr>\n",
       "  </thead>\n",
       "  <tbody>\n",
       "    <tr>\n",
       "      <th>0</th>\n",
       "      <td>distributorCfmDeliver</td>\n",
       "      <td>2032499</td>\n",
       "      <td>[Existence check]</td>\n",
       "      <td>[Resource/Capacity conditions]</td>\n",
       "      <td></td>\n",
       "      <td>Integration</td>\n",
       "    </tr>\n",
       "    <tr>\n",
       "      <th>1</th>\n",
       "      <td>assignCodPicking</td>\n",
       "      <td>1444438</td>\n",
       "      <td>[Existence check]</td>\n",
       "      <td>[Business rule conditions]</td>\n",
       "      <td></td>\n",
       "      <td>Integration</td>\n",
       "    </tr>\n",
       "    <tr>\n",
       "      <th>2</th>\n",
       "      <td>privateNotePackage</td>\n",
       "      <td>1430543</td>\n",
       "      <td>[Existence check]</td>\n",
       "      <td>[Business rule conditions]</td>\n",
       "      <td></td>\n",
       "      <td>Transformation</td>\n",
       "    </tr>\n",
       "    <tr>\n",
       "      <th>3</th>\n",
       "      <td>putPackages2Bag</td>\n",
       "      <td>838847</td>\n",
       "      <td>[Existence check]</td>\n",
       "      <td>[State/status conditions]</td>\n",
       "      <td></td>\n",
       "      <td>Transformation</td>\n",
       "    </tr>\n",
       "    <tr>\n",
       "      <th>4</th>\n",
       "      <td>PickupBill</td>\n",
       "      <td>812609</td>\n",
       "      <td>[Existence check]</td>\n",
       "      <td>[Resource/Capacity conditions]</td>\n",
       "      <td></td>\n",
       "      <td>Integration</td>\n",
       "    </tr>\n",
       "    <tr>\n",
       "      <th>...</th>\n",
       "      <td>...</td>\n",
       "      <td>...</td>\n",
       "      <td>...</td>\n",
       "      <td>...</td>\n",
       "      <td>...</td>\n",
       "      <td>...</td>\n",
       "    </tr>\n",
       "    <tr>\n",
       "      <th>263</th>\n",
       "      <td>returnPackageAtStation</td>\n",
       "      <td>2</td>\n",
       "      <td>[Existence check]</td>\n",
       "      <td>[Resource/Capacity conditions]</td>\n",
       "      <td></td>\n",
       "      <td>Integration</td>\n",
       "    </tr>\n",
       "    <tr>\n",
       "      <th>264</th>\n",
       "      <td>putPackages2QsBag</td>\n",
       "      <td>2</td>\n",
       "      <td>[Existence check]</td>\n",
       "      <td>[Resource/Capacity conditions]</td>\n",
       "      <td></td>\n",
       "      <td>Integration</td>\n",
       "    </tr>\n",
       "    <tr>\n",
       "      <th>265</th>\n",
       "      <td>changePackagesTransport</td>\n",
       "      <td>1</td>\n",
       "      <td>[Data range, Data format]</td>\n",
       "      <td>[Business rule conditions]</td>\n",
       "      <td>AND</td>\n",
       "      <td>Transformation</td>\n",
       "    </tr>\n",
       "    <tr>\n",
       "      <th>266</th>\n",
       "      <td>exportBigSizeReturnPackages</td>\n",
       "      <td>1</td>\n",
       "      <td>[Existence check]</td>\n",
       "      <td>[State/status conditions]</td>\n",
       "      <td></td>\n",
       "      <td>Integration</td>\n",
       "    </tr>\n",
       "    <tr>\n",
       "      <th>267</th>\n",
       "      <td>cancelNewPackage</td>\n",
       "      <td>1</td>\n",
       "      <td>[Existence check]</td>\n",
       "      <td>[Business rule conditions]</td>\n",
       "      <td></td>\n",
       "      <td>Transformation</td>\n",
       "    </tr>\n",
       "  </tbody>\n",
       "</table>\n",
       "<p>268 rows × 6 columns</p>\n",
       "</div>"
      ],
      "text/plain": [
       "                          action  frequency             type_condition  \\\n",
       "0          distributorCfmDeliver    2032499          [Existence check]   \n",
       "1               assignCodPicking    1444438          [Existence check]   \n",
       "2             privateNotePackage    1430543          [Existence check]   \n",
       "3                putPackages2Bag     838847          [Existence check]   \n",
       "4                     PickupBill     812609          [Existence check]   \n",
       "..                           ...        ...                        ...   \n",
       "263       returnPackageAtStation          2          [Existence check]   \n",
       "264            putPackages2QsBag          2          [Existence check]   \n",
       "265      changePackagesTransport          1  [Data range, Data format]   \n",
       "266  exportBigSizeReturnPackages          1          [Existence check]   \n",
       "267             cancelNewPackage          1          [Existence check]   \n",
       "\n",
       "                  content_condition composite_conditions     type_action  \n",
       "0    [Resource/Capacity conditions]                          Integration  \n",
       "1        [Business rule conditions]                          Integration  \n",
       "2        [Business rule conditions]                       Transformation  \n",
       "3         [State/status conditions]                       Transformation  \n",
       "4    [Resource/Capacity conditions]                          Integration  \n",
       "..                              ...                  ...             ...  \n",
       "263  [Resource/Capacity conditions]                          Integration  \n",
       "264  [Resource/Capacity conditions]                          Integration  \n",
       "265      [Business rule conditions]                  AND  Transformation  \n",
       "266       [State/status conditions]                          Integration  \n",
       "267      [Business rule conditions]                       Transformation  \n",
       "\n",
       "[268 rows x 6 columns]"
      ]
     },
     "execution_count": 21,
     "metadata": {},
     "output_type": "execute_result"
    }
   ],
   "source": [
    "data_final"
   ]
  },
  {
   "cell_type": "code",
   "execution_count": null,
   "id": "413cbd1a",
   "metadata": {},
   "outputs": [],
   "source": [
    "#data_final.to_csv(\"data_final.csv\", index=False)"
   ]
  },
  {
   "cell_type": "code",
   "execution_count": 62,
   "id": "e947d708",
   "metadata": {},
   "outputs": [],
   "source": [
    "df = data_final.copy()"
   ]
  },
  {
   "cell_type": "code",
   "execution_count": 51,
   "id": "14b41708",
   "metadata": {},
   "outputs": [],
   "source": [
    "import matplotlib.pyplot as plt\n",
    "import seaborn as sns"
   ]
  },
  {
   "cell_type": "code",
   "execution_count": 63,
   "id": "ce120945",
   "metadata": {},
   "outputs": [
    {
     "data": {
      "application/vnd.microsoft.datawrangler.viewer.v0+json": {
       "columns": [
        {
         "name": "type_condition",
         "rawType": "object",
         "type": "unknown"
        },
        {
         "name": "count",
         "rawType": "int64",
         "type": "integer"
        }
       ],
       "ref": "24bfe351-e4c3-428b-8ce7-26f079d4851f",
       "rows": [
        [
         "['Existence check']",
         "116"
        ],
        [
         "['Data integrity']",
         "45"
        ],
        [
         "['Existence check', 'Data integrity']",
         "33"
        ],
        [
         "['Data integrity', 'Data format']",
         "15"
        ],
        [
         "['State/status conditions']",
         "13"
        ],
        [
         "['Data format', 'Data integrity']",
         "7"
        ],
        [
         "['Data integrity', 'Data range']",
         "6"
        ],
        [
         "['Data integrity', 'Data format', 'Existence check']",
         "5"
        ],
        [
         "['Existence check', 'Timing conditions']",
         "4"
        ],
        [
         "['Timing conditions']",
         "3"
        ],
        [
         "['Data range', 'Existence check']",
         "3"
        ],
        [
         "['Existence check', 'Data range']",
         "2"
        ],
        [
         "['Existence check', 'Data format']",
         "2"
        ],
        [
         "['Data range', 'Data format']",
         "2"
        ],
        [
         "['Data integrity', 'Data format', 'Data range', 'Existence check']",
         "2"
        ],
        [
         "['Existence check', 'Resource/Capacity conditions']",
         "1"
        ],
        [
         "['Timing conditions', 'Data integrity']",
         "1"
        ],
        [
         "['Existence check', 'Data integrity', 'Data range']",
         "1"
        ],
        [
         "['Data format', 'Existence check']",
         "1"
        ],
        [
         "['Data integrity', 'Existence check', 'Data format']",
         "1"
        ],
        [
         "['Data format', 'Data range']",
         "1"
        ],
        [
         "['Existence check', 'Data integrity', 'Authentication/Authorization conditions']",
         "1"
        ],
        [
         "['Data integrity', 'Timing conditions']",
         "1"
        ],
        [
         "['Existence check', 'Data integrity', 'Timing conditions']",
         "1"
        ]
       ],
       "shape": {
        "columns": 1,
        "rows": 24
       }
      },
      "text/plain": [
       "type_condition\n",
       "[Existence check]                                                             116\n",
       "[Data integrity]                                                               45\n",
       "[Existence check, Data integrity]                                              33\n",
       "[Data integrity, Data format]                                                  15\n",
       "[State/status conditions]                                                      13\n",
       "[Data format, Data integrity]                                                   7\n",
       "[Data integrity, Data range]                                                    6\n",
       "[Data integrity, Data format, Existence check]                                  5\n",
       "[Existence check, Timing conditions]                                            4\n",
       "[Timing conditions]                                                             3\n",
       "[Data range, Existence check]                                                   3\n",
       "[Existence check, Data range]                                                   2\n",
       "[Existence check, Data format]                                                  2\n",
       "[Data range, Data format]                                                       2\n",
       "[Data integrity, Data format, Data range, Existence check]                      2\n",
       "[Existence check, Resource/Capacity conditions]                                 1\n",
       "[Timing conditions, Data integrity]                                             1\n",
       "[Existence check, Data integrity, Data range]                                   1\n",
       "[Data format, Existence check]                                                  1\n",
       "[Data integrity, Existence check, Data format]                                  1\n",
       "[Data format, Data range]                                                       1\n",
       "[Existence check, Data integrity, Authentication/Authorization conditions]      1\n",
       "[Data integrity, Timing conditions]                                             1\n",
       "[Existence check, Data integrity, Timing conditions]                            1\n",
       "Name: count, dtype: int64"
      ]
     },
     "execution_count": 63,
     "metadata": {},
     "output_type": "execute_result"
    }
   ],
   "source": [
    "df[\"type_condition\"].value_counts()"
   ]
  },
  {
   "cell_type": "code",
   "execution_count": 53,
   "id": "8ac855ce",
   "metadata": {},
   "outputs": [
    {
     "data": {
      "application/vnd.microsoft.datawrangler.viewer.v0+json": {
       "columns": [
        {
         "name": "content_condition",
         "rawType": "object",
         "type": "unknown"
        },
        {
         "name": "count",
         "rawType": "int64",
         "type": "integer"
        }
       ],
       "ref": "36924a4a-1ecc-41c2-8c19-2bea108adefc",
       "rows": [
        [
         "['State/status conditions']",
         "104"
        ],
        [
         "['Business rule conditions']",
         "80"
        ],
        [
         "['Resource/Capacity conditions']",
         "45"
        ],
        [
         "['Authentication/Authorization conditions']",
         "8"
        ],
        [
         "['State/status conditions', 'Business rule conditions']",
         "6"
        ],
        [
         "['Timing conditions']",
         "5"
        ],
        [
         "['Resource/Capacity conditions', 'Authentication/Authorization conditions']",
         "5"
        ],
        [
         "['State/status conditions', 'Resource/Capacity conditions']",
         "3"
        ],
        [
         "['Timing conditions', 'Resource/Capacity conditions']",
         "3"
        ],
        [
         "['Timing conditions', 'Business rule conditions']",
         "2"
        ],
        [
         "['Business rule conditions', 'Resource/Capacity conditions', 'Authentication/Authorization conditions']",
         "2"
        ],
        [
         "['Business rule conditions', 'State/status conditions']",
         "1"
        ],
        [
         "['Timing conditions', 'State/status conditions']",
         "1"
        ],
        [
         "['State/status conditions', 'Authentication/Authorization conditions']",
         "1"
        ],
        [
         "['Data format']",
         "1"
        ]
       ],
       "shape": {
        "columns": 1,
        "rows": 15
       }
      },
      "text/plain": [
       "content_condition\n",
       "[State/status conditions]                                                                            104\n",
       "[Business rule conditions]                                                                            80\n",
       "[Resource/Capacity conditions]                                                                        45\n",
       "[Authentication/Authorization conditions]                                                              8\n",
       "[State/status conditions, Business rule conditions]                                                    6\n",
       "[Timing conditions]                                                                                    5\n",
       "[Resource/Capacity conditions, Authentication/Authorization conditions]                                5\n",
       "[State/status conditions, Resource/Capacity conditions]                                                3\n",
       "[Timing conditions, Resource/Capacity conditions]                                                      3\n",
       "[Timing conditions, Business rule conditions]                                                          2\n",
       "[Business rule conditions, Resource/Capacity conditions, Authentication/Authorization conditions]      2\n",
       "[Business rule conditions, State/status conditions]                                                    1\n",
       "[Timing conditions, State/status conditions]                                                           1\n",
       "[State/status conditions, Authentication/Authorization conditions]                                     1\n",
       "[Data format]                                                                                          1\n",
       "Name: count, dtype: int64"
      ]
     },
     "execution_count": 53,
     "metadata": {},
     "output_type": "execute_result"
    }
   ],
   "source": [
    "df[\"content_condition\"].value_counts()"
   ]
  },
  {
   "cell_type": "code",
   "execution_count": 54,
   "id": "452d1745",
   "metadata": {},
   "outputs": [
    {
     "data": {
      "application/vnd.microsoft.datawrangler.viewer.v0+json": {
       "columns": [
        {
         "name": "composite_conditions",
         "rawType": "object",
         "type": "string"
        },
        {
         "name": "count",
         "rawType": "int64",
         "type": "integer"
        }
       ],
       "ref": "1d6e5d99-980c-49d3-9949-e682805d4fd3",
       "rows": [
        [
         "",
         "249"
        ],
        [
         "AND",
         "18"
        ]
       ],
       "shape": {
        "columns": 1,
        "rows": 2
       }
      },
      "text/plain": [
       "composite_conditions\n",
       "       249\n",
       "AND     18\n",
       "Name: count, dtype: int64"
      ]
     },
     "execution_count": 54,
     "metadata": {},
     "output_type": "execute_result"
    }
   ],
   "source": [
    "df[\"composite_conditions\"].value_counts()"
   ]
  },
  {
   "cell_type": "code",
   "execution_count": 55,
   "id": "e1193f2b",
   "metadata": {},
   "outputs": [
    {
     "data": {
      "application/vnd.microsoft.datawrangler.viewer.v0+json": {
       "columns": [
        {
         "name": "type_action",
         "rawType": "object",
         "type": "string"
        },
        {
         "name": "count",
         "rawType": "int64",
         "type": "integer"
        }
       ],
       "ref": "af03fe21-de52-4b13-90b8-c1c62651c5f8",
       "rows": [
        [
         "Integration",
         "143"
        ],
        [
         "Transformation",
         "118"
        ],
        [
         "Logic",
         "6"
        ]
       ],
       "shape": {
        "columns": 1,
        "rows": 3
       }
      },
      "text/plain": [
       "type_action\n",
       "Integration       143\n",
       "Transformation    118\n",
       "Logic               6\n",
       "Name: count, dtype: int64"
      ]
     },
     "execution_count": 55,
     "metadata": {},
     "output_type": "execute_result"
    }
   ],
   "source": [
    "df[\"type_action\"].value_counts()"
   ]
  },
  {
   "cell_type": "code",
   "execution_count": 60,
   "id": "eedcbfd4",
   "metadata": {},
   "outputs": [
    {
     "data": {
      "application/vnd.microsoft.datawrangler.viewer.v0+json": {
       "columns": [
        {
         "name": "index",
         "rawType": "int64",
         "type": "integer"
        },
        {
         "name": "action",
         "rawType": "object",
         "type": "string"
        },
        {
         "name": "frequency",
         "rawType": "int64",
         "type": "integer"
        },
        {
         "name": "type_condition",
         "rawType": "object",
         "type": "unknown"
        },
        {
         "name": "content_condition",
         "rawType": "object",
         "type": "unknown"
        },
        {
         "name": "composite_conditions",
         "rawType": "object",
         "type": "string"
        },
        {
         "name": "type_action",
         "rawType": "object",
         "type": "string"
        }
       ],
       "ref": "768cd61f-b54d-4d6b-985b-bd80753fa93d",
       "rows": [
        [
         "0",
         "distributorCfmDeliver",
         "2032499",
         "['Existence check']",
         "['Resource/Capacity conditions']",
         "",
         "Integration"
        ],
        [
         "1",
         "assignCodPicking",
         "1444438",
         "['Existence check']",
         "['Business rule conditions']",
         "",
         "Integration"
        ],
        [
         "2",
         "privateNotePackage",
         "1430543",
         "['Existence check']",
         "['Business rule conditions']",
         "",
         "Transformation"
        ],
        [
         "3",
         "putPackages2Bag",
         "838847",
         "['Existence check']",
         "['State/status conditions']",
         "",
         "Transformation"
        ],
        [
         "4",
         "PickupBill",
         "812609",
         "['Existence check']",
         "['Resource/Capacity conditions']",
         "",
         "Integration"
        ],
        [
         "7",
         "assignBagWithIdentifyBag",
         "723186",
         "['Existence check']",
         "['State/status conditions']",
         "",
         "Integration"
        ],
        [
         "8",
         "verifySessionPackage",
         "689592",
         "['Existence check']",
         "['State/status conditions']",
         "",
         "Integration"
        ],
        [
         "9",
         "verifySessionBags",
         "686533",
         "['Existence check', 'Data range']",
         "['State/status conditions']",
         "",
         "Integration"
        ],
        [
         "10",
         "smartScaleScanningPackage",
         "682191",
         "['Data integrity', 'Data format', 'Data range', 'Existence check']",
         "['State/status conditions']",
         "",
         "Integration"
        ],
        [
         "11",
         "TransferToBothBill",
         "623364",
         "['Existence check']",
         "['Business rule conditions']",
         "",
         "Transformation"
        ],
        [
         "12",
         "cfmTransit",
         "612373",
         "['Existence check', 'Data integrity']",
         "['State/status conditions']",
         "",
         "Integration"
        ],
        [
         "14",
         "PickupCrossProvinceBill",
         "499609",
         "['Existence check', 'Data integrity']",
         "['State/status conditions']",
         "",
         "Integration"
        ],
        [
         "16",
         "ReturnBill",
         "311508",
         "['Existence check']",
         "['Business rule conditions']",
         "",
         "Integration"
        ],
        [
         "17",
         "RefundBill",
         "304210",
         "['Existence check']",
         "['Business rule conditions']",
         "",
         "Integration"
        ],
        [
         "21",
         "changePackageStatus",
         "227671",
         "['Existence check']",
         "['State/status conditions', 'Business rule conditions']",
         "",
         "Integration"
        ],
        [
         "22",
         "distributorCfmReturning",
         "225845",
         "['Existence check']",
         "['Authentication/Authorization conditions']",
         "",
         "Integration"
        ],
        [
         "23",
         "printfPackage",
         "200957",
         "['Existence check']",
         "['Resource/Capacity conditions']",
         "",
         "Integration"
        ],
        [
         "25",
         "importStationByDistributer",
         "148782",
         "['Existence check']",
         "['State/status conditions']",
         "",
         "Integration"
        ],
        [
         "26",
         "putInBox",
         "133658",
         "['Existence check']",
         "['State/status conditions']",
         "",
         "Transformation"
        ],
        [
         "27",
         "changeCodForPackagesInCart",
         "121545",
         "['Existence check']",
         "['Resource/Capacity conditions']",
         "",
         "Transformation"
        ],
        [
         "30",
         "editPackage",
         "95427",
         "['Existence check']",
         "['Business rule conditions']",
         "",
         "Transformation"
        ],
        [
         "32",
         "cfmImportV4JobQ",
         "83520",
         "['Existence check']",
         "['State/status conditions']",
         "",
         "Integration"
        ],
        [
         "33",
         "TransferToBothAcceptBill",
         "79015",
         "['Existence check']",
         "['Business rule conditions']",
         "",
         "Transformation"
        ],
        [
         "35",
         "takeReturningPackages",
         "77071",
         "['Existence check']",
         "['State/status conditions']",
         "",
         "Integration"
        ],
        [
         "36",
         "updateDeliverCod",
         "72915",
         "['Existence check', 'Data integrity']",
         "['State/status conditions']",
         "",
         "Transformation"
        ],
        [
         "37",
         "takeDeliveringPackages",
         "70258",
         "['Existence check']",
         "['Resource/Capacity conditions']",
         "",
         "Integration"
        ],
        [
         "38",
         "updateTmpPickingStatus",
         "67047",
         "['Existence check']",
         "['State/status conditions']",
         "",
         "Integration"
        ],
        [
         "39",
         "ScanPackageToBag",
         "66768",
         "['Existence check']",
         "['State/status conditions']",
         "",
         "Integration"
        ],
        [
         "40",
         "delayPickPackageReason",
         "64957",
         "['Existence check']",
         "['Business rule conditions']",
         "",
         "Transformation"
        ],
        [
         "41",
         "scanBox",
         "62809",
         "['Existence check']",
         "['State/status conditions', 'Resource/Capacity conditions']",
         "",
         "Integration"
        ],
        [
         "43",
         "confirmExportBox",
         "56289",
         "['Existence check', 'Data integrity']",
         "['Timing conditions']",
         "",
         "Integration"
        ],
        [
         "44",
         "changeAttributeForSurplus",
         "50070",
         "['Existence check']",
         "['Resource/Capacity conditions']",
         "",
         "Integration"
        ],
        [
         "46",
         "Refund_payment_qrBill",
         "44172",
         "['Existence check', 'Data integrity']",
         "['State/status conditions']",
         "",
         "Integration"
        ],
        [
         "48",
         "feedbackReDelivery",
         "40798",
         "['Existence check', 'Timing conditions']",
         "['Business rule conditions']",
         "",
         "Integration"
        ],
        [
         "50",
         "TakeAPhotoReturnRequest",
         "37767",
         "['Existence check']",
         "['Resource/Capacity conditions', 'Authentication/Authorization conditions']",
         "AND",
         "Integration"
        ],
        [
         "51",
         "NVBCTakeAPhotoDelivery",
         "32746",
         "['Existence check']",
         "['Resource/Capacity conditions', 'Authentication/Authorization conditions']",
         "AND",
         "Integration"
        ],
        [
         "52",
         "changePickCartByInstantDistribution",
         "31828",
         "['Existence check']",
         "['Business rule conditions']",
         "",
         "Integration"
        ],
        [
         "54",
         "scanPackageCreateBagB2C",
         "28710",
         "['Existence check']",
         "['State/status conditions']",
         "",
         "Transformation"
        ],
        [
         "56",
         "putPackages2TmpBag",
         "27924",
         "['Existence check']",
         "['Resource/Capacity conditions']",
         "",
         "Integration"
        ],
        [
         "57",
         "confirmTmpPickedPackageStatusFromPO",
         "26472",
         "['Existence check']",
         "['State/status conditions']",
         "",
         "Integration"
        ],
        [
         "60",
         "cfmDonePrepaymnet",
         "22262",
         "['Existence check']",
         "['Business rule conditions']",
         "",
         "Integration"
        ],
        [
         "62",
         "confirmIssueHandovers",
         "20399",
         "['Existence check']",
         "['State/status conditions']",
         "",
         "Integration"
        ],
        [
         "63",
         "checkPackageSealScanned",
         "20112",
         "['Data integrity', 'Existence check', 'Data format']",
         "['Business rule conditions']",
         "AND",
         "Integration"
        ],
        [
         "64",
         "saveRealImportStation",
         "18618",
         "['Existence check', 'Data integrity']",
         "['State/status conditions']",
         "",
         "Integration"
        ],
        [
         "65",
         "changeCart",
         "18518",
         "['Existence check', 'Data integrity']",
         "['State/status conditions']",
         "",
         "Transformation"
        ],
        [
         "66",
         "saveSealForSpecialPackage",
         "15658",
         "['Existence check', 'Data integrity']",
         "['State/status conditions']",
         "",
         "Transformation"
        ],
        [
         "67",
         "changeCod",
         "15637",
         "['Existence check', 'Data integrity']",
         "['State/status conditions']",
         "",
         "Transformation"
        ],
        [
         "68",
         "PrepaymentBill",
         "15113",
         "['Data format', 'Existence check']",
         "['Business rule conditions']",
         "",
         "Integration"
        ],
        [
         "69",
         "ArrivePickingPoint",
         "14807",
         "['Existence check']",
         "['State/status conditions']",
         "",
         "Integration"
        ],
        [
         "70",
         "NVBCConfirmImageWorkshift",
         "14729",
         "['Existence check']",
         "['Resource/Capacity conditions', 'Authentication/Authorization conditions']",
         "AND",
         "Integration"
        ]
       ],
       "shape": {
        "columns": 6,
        "rows": 173
       }
      },
      "text/html": [
       "<div>\n",
       "<style scoped>\n",
       "    .dataframe tbody tr th:only-of-type {\n",
       "        vertical-align: middle;\n",
       "    }\n",
       "\n",
       "    .dataframe tbody tr th {\n",
       "        vertical-align: top;\n",
       "    }\n",
       "\n",
       "    .dataframe thead th {\n",
       "        text-align: right;\n",
       "    }\n",
       "</style>\n",
       "<table border=\"1\" class=\"dataframe\">\n",
       "  <thead>\n",
       "    <tr style=\"text-align: right;\">\n",
       "      <th></th>\n",
       "      <th>action</th>\n",
       "      <th>frequency</th>\n",
       "      <th>type_condition</th>\n",
       "      <th>content_condition</th>\n",
       "      <th>composite_conditions</th>\n",
       "      <th>type_action</th>\n",
       "    </tr>\n",
       "  </thead>\n",
       "  <tbody>\n",
       "    <tr>\n",
       "      <th>0</th>\n",
       "      <td>distributorCfmDeliver</td>\n",
       "      <td>2032499</td>\n",
       "      <td>[Existence check]</td>\n",
       "      <td>[Resource/Capacity conditions]</td>\n",
       "      <td></td>\n",
       "      <td>Integration</td>\n",
       "    </tr>\n",
       "    <tr>\n",
       "      <th>1</th>\n",
       "      <td>assignCodPicking</td>\n",
       "      <td>1444438</td>\n",
       "      <td>[Existence check]</td>\n",
       "      <td>[Business rule conditions]</td>\n",
       "      <td></td>\n",
       "      <td>Integration</td>\n",
       "    </tr>\n",
       "    <tr>\n",
       "      <th>2</th>\n",
       "      <td>privateNotePackage</td>\n",
       "      <td>1430543</td>\n",
       "      <td>[Existence check]</td>\n",
       "      <td>[Business rule conditions]</td>\n",
       "      <td></td>\n",
       "      <td>Transformation</td>\n",
       "    </tr>\n",
       "    <tr>\n",
       "      <th>3</th>\n",
       "      <td>putPackages2Bag</td>\n",
       "      <td>838847</td>\n",
       "      <td>[Existence check]</td>\n",
       "      <td>[State/status conditions]</td>\n",
       "      <td></td>\n",
       "      <td>Transformation</td>\n",
       "    </tr>\n",
       "    <tr>\n",
       "      <th>4</th>\n",
       "      <td>PickupBill</td>\n",
       "      <td>812609</td>\n",
       "      <td>[Existence check]</td>\n",
       "      <td>[Resource/Capacity conditions]</td>\n",
       "      <td></td>\n",
       "      <td>Integration</td>\n",
       "    </tr>\n",
       "    <tr>\n",
       "      <th>...</th>\n",
       "      <td>...</td>\n",
       "      <td>...</td>\n",
       "      <td>...</td>\n",
       "      <td>...</td>\n",
       "      <td>...</td>\n",
       "      <td>...</td>\n",
       "    </tr>\n",
       "    <tr>\n",
       "      <th>262</th>\n",
       "      <td>LosePackageByPostOffice</td>\n",
       "      <td>2</td>\n",
       "      <td>[Existence check, Data integrity, Timing condi...</td>\n",
       "      <td>[State/status conditions]</td>\n",
       "      <td></td>\n",
       "      <td>Integration</td>\n",
       "    </tr>\n",
       "    <tr>\n",
       "      <th>263</th>\n",
       "      <td>returnPackageAtStation</td>\n",
       "      <td>2</td>\n",
       "      <td>[Existence check]</td>\n",
       "      <td>[Resource/Capacity conditions]</td>\n",
       "      <td></td>\n",
       "      <td>Integration</td>\n",
       "    </tr>\n",
       "    <tr>\n",
       "      <th>264</th>\n",
       "      <td>putPackages2QsBag</td>\n",
       "      <td>2</td>\n",
       "      <td>[Existence check]</td>\n",
       "      <td>[Resource/Capacity conditions]</td>\n",
       "      <td></td>\n",
       "      <td>Integration</td>\n",
       "    </tr>\n",
       "    <tr>\n",
       "      <th>266</th>\n",
       "      <td>exportBigSizeReturnPackages</td>\n",
       "      <td>1</td>\n",
       "      <td>[Existence check]</td>\n",
       "      <td>[State/status conditions]</td>\n",
       "      <td></td>\n",
       "      <td>Integration</td>\n",
       "    </tr>\n",
       "    <tr>\n",
       "      <th>267</th>\n",
       "      <td>cancelNewPackage</td>\n",
       "      <td>1</td>\n",
       "      <td>[Existence check]</td>\n",
       "      <td>[Business rule conditions]</td>\n",
       "      <td></td>\n",
       "      <td>Transformation</td>\n",
       "    </tr>\n",
       "  </tbody>\n",
       "</table>\n",
       "<p>173 rows × 6 columns</p>\n",
       "</div>"
      ],
      "text/plain": [
       "                          action  frequency  \\\n",
       "0          distributorCfmDeliver    2032499   \n",
       "1               assignCodPicking    1444438   \n",
       "2             privateNotePackage    1430543   \n",
       "3                putPackages2Bag     838847   \n",
       "4                     PickupBill     812609   \n",
       "..                           ...        ...   \n",
       "262      LosePackageByPostOffice          2   \n",
       "263       returnPackageAtStation          2   \n",
       "264            putPackages2QsBag          2   \n",
       "266  exportBigSizeReturnPackages          1   \n",
       "267             cancelNewPackage          1   \n",
       "\n",
       "                                        type_condition  \\\n",
       "0                                    [Existence check]   \n",
       "1                                    [Existence check]   \n",
       "2                                    [Existence check]   \n",
       "3                                    [Existence check]   \n",
       "4                                    [Existence check]   \n",
       "..                                                 ...   \n",
       "262  [Existence check, Data integrity, Timing condi...   \n",
       "263                                  [Existence check]   \n",
       "264                                  [Existence check]   \n",
       "266                                  [Existence check]   \n",
       "267                                  [Existence check]   \n",
       "\n",
       "                  content_condition composite_conditions     type_action  \n",
       "0    [Resource/Capacity conditions]                          Integration  \n",
       "1        [Business rule conditions]                          Integration  \n",
       "2        [Business rule conditions]                       Transformation  \n",
       "3         [State/status conditions]                       Transformation  \n",
       "4    [Resource/Capacity conditions]                          Integration  \n",
       "..                              ...                  ...             ...  \n",
       "262       [State/status conditions]                          Integration  \n",
       "263  [Resource/Capacity conditions]                          Integration  \n",
       "264  [Resource/Capacity conditions]                          Integration  \n",
       "266       [State/status conditions]                          Integration  \n",
       "267      [Business rule conditions]                       Transformation  \n",
       "\n",
       "[173 rows x 6 columns]"
      ]
     },
     "execution_count": 60,
     "metadata": {},
     "output_type": "execute_result"
    }
   ],
   "source": [
    "\n",
    "df = df[df[\"type_condition\"].map(lambda x: 'Existence check' in str(x))]\n"
   ]
  },
  {
   "cell_type": "code",
   "execution_count": 56,
   "id": "00fe539d",
   "metadata": {},
   "outputs": [
    {
     "data": {
      "application/vnd.microsoft.datawrangler.viewer.v0+json": {
       "columns": [
        {
         "name": "type_action",
         "rawType": "object",
         "type": "string"
        },
        {
         "name": "frequency",
         "rawType": "int64",
         "type": "integer"
        }
       ],
       "ref": "58f7e9cd-627d-4959-8108-7b7a519008ea",
       "rows": [
        [
         "Integration",
         "10953959"
        ],
        [
         "Transformation",
         "7584984"
        ],
        [
         "Logic",
         "29190"
        ]
       ],
       "shape": {
        "columns": 1,
        "rows": 3
       }
      },
      "text/plain": [
       "type_action\n",
       "Integration       10953959\n",
       "Transformation     7584984\n",
       "Logic                29190\n",
       "Name: frequency, dtype: int64"
      ]
     },
     "execution_count": 56,
     "metadata": {},
     "output_type": "execute_result"
    }
   ],
   "source": [
    "df.groupby('type_action')['frequency'].sum().sort_values(ascending=False)\n"
   ]
  },
  {
   "cell_type": "code",
   "execution_count": 64,
   "id": "d386e69d",
   "metadata": {},
   "outputs": [
    {
     "data": {
      "application/vnd.microsoft.datawrangler.viewer.v0+json": {
       "columns": [
        {
         "name": "index",
         "rawType": "int64",
         "type": "integer"
        },
        {
         "name": "action",
         "rawType": "object",
         "type": "unknown"
        },
        {
         "name": "frequency",
         "rawType": "int64",
         "type": "integer"
        },
        {
         "name": "type_condition",
         "rawType": "object",
         "type": "unknown"
        },
        {
         "name": "content_condition",
         "rawType": "object",
         "type": "unknown"
        },
        {
         "name": "composite_conditions",
         "rawType": "object",
         "type": "unknown"
        },
        {
         "name": "type_action",
         "rawType": "object",
         "type": "unknown"
        }
       ],
       "ref": "ceb5c406-f773-4325-b47a-c7abdf3a7db9",
       "rows": [
        [
         "0",
         "distributorCfmDeliver",
         "2032499",
         "['Existence check']",
         "['Resource/Capacity conditions']",
         "",
         "Integration"
        ],
        [
         "1",
         "assignCodPicking",
         "1444438",
         "['Existence check']",
         "['Business rule conditions']",
         "",
         "Integration"
        ],
        [
         "2",
         "privateNotePackage",
         "1430543",
         "['Existence check']",
         "['Business rule conditions']",
         "",
         "Transformation"
        ],
        [
         "3",
         "putPackages2Bag",
         "838847",
         "['Existence check']",
         "['State/status conditions']",
         "",
         "Transformation"
        ],
        [
         "4",
         "PickupBill",
         "812609",
         "['Existence check']",
         "['Resource/Capacity conditions']",
         "",
         "Integration"
        ],
        [
         "5",
         "confirmTmpPickedPackageStatus",
         "811439",
         "['Data integrity']",
         "['State/status conditions']",
         "",
         "Transformation"
        ],
        [
         "6",
         "updateDeliverWorkshiftByCod",
         "724587",
         "['Timing conditions', 'Data integrity']",
         "['Business rule conditions']",
         "AND",
         "Transformation"
        ],
        [
         "7",
         "assignBagWithIdentifyBag",
         "723186",
         "['Existence check']",
         "['State/status conditions']",
         "",
         "Integration"
        ],
        [
         "8",
         "verifySessionPackage",
         "689592",
         "['Existence check']",
         "['State/status conditions']",
         "",
         "Integration"
        ],
        [
         "9",
         "verifySessionBags",
         "686533",
         "['Existence check', 'Data range']",
         "['State/status conditions']",
         "",
         "Integration"
        ],
        [
         "10",
         "smartScaleScanningPackage",
         "682191",
         "['Data integrity', 'Data format', 'Data range', 'Existence check']",
         "['State/status conditions']",
         "",
         "Integration"
        ],
        [
         "11",
         "TransferToBothBill",
         "623364",
         "['Existence check']",
         "['Business rule conditions']",
         "",
         "Transformation"
        ],
        [
         "12",
         "cfmTransit",
         "612373",
         "['Existence check', 'Data integrity']",
         "['State/status conditions']",
         "",
         "Integration"
        ],
        [
         "13",
         "updatePickedByCod",
         "541249",
         "['Data integrity']",
         "['State/status conditions']",
         "",
         "Transformation"
        ],
        [
         "14",
         "PickupCrossProvinceBill",
         "499609",
         "['Existence check', 'Data integrity']",
         "['State/status conditions']",
         "",
         "Integration"
        ],
        [
         "15",
         "confirmTmpDeliveredPackageStatus",
         "340580",
         "['Data integrity']",
         "['State/status conditions']",
         "",
         "Transformation"
        ],
        [
         "16",
         "ReturnBill",
         "311508",
         "['Existence check']",
         "['Business rule conditions']",
         "",
         "Integration"
        ],
        [
         "17",
         "RefundBill",
         "304210",
         "['Existence check']",
         "['Business rule conditions']",
         "",
         "Integration"
        ],
        [
         "18",
         "confirmTmpReturnedPackageStatus",
         "283508",
         "['Data integrity']",
         "['State/status conditions']",
         "",
         "Transformation"
        ],
        [
         "19",
         "updateReturnedByCod",
         "268049",
         "['State/status conditions']",
         "['Business rule conditions']",
         "",
         "Transformation"
        ],
        [
         "20",
         "updateDelayDeliveringByCod",
         "238530",
         "['State/status conditions']",
         "['Business rule conditions']",
         "",
         "Transformation"
        ],
        [
         "21",
         "changePackageStatus",
         "227671",
         "['Existence check']",
         "['State/status conditions', 'Business rule conditions']",
         "",
         "Integration"
        ],
        [
         "22",
         "distributorCfmReturning",
         "225845",
         "['Existence check']",
         "['Authentication/Authorization conditions']",
         "",
         "Integration"
        ],
        [
         "23",
         "printfPackage",
         "200957",
         "['Existence check']",
         "['Resource/Capacity conditions']",
         "",
         "Integration"
        ],
        [
         "24",
         "updateDelayPickingByCod",
         "196478",
         "['Data integrity']",
         "['State/status conditions']",
         "",
         "Transformation"
        ],
        [
         "25",
         "importStationByDistributer",
         "148782",
         "['Existence check']",
         "['State/status conditions']",
         "",
         "Integration"
        ],
        [
         "26",
         "putInBox",
         "133658",
         "['Existence check']",
         "['State/status conditions']",
         "",
         "Transformation"
        ],
        [
         "27",
         "changeCodForPackagesInCart",
         "121545",
         "['Existence check']",
         "['Resource/Capacity conditions']",
         "",
         "Transformation"
        ],
        [
         "28",
         "cfmImpPkgFrPONew",
         "116513",
         "['Data integrity']",
         "['State/status conditions']",
         "",
         "Transformation"
        ],
        [
         "29",
         "saveIsfrageImages",
         "99357",
         "['Data integrity']",
         "['State/status conditions']",
         "",
         "Integration"
        ],
        [
         "30",
         "editPackage",
         "95427",
         "['Existence check']",
         "['Business rule conditions']",
         "",
         "Transformation"
        ],
        [
         "31",
         "approvedDeliveryDate",
         "91084",
         "['Data integrity', 'Data format']",
         "['Timing conditions', 'Business rule conditions']",
         "",
         "Integration"
        ],
        [
         "32",
         "cfmImportV4JobQ",
         "83520",
         "['Existence check']",
         "['State/status conditions']",
         "",
         "Integration"
        ],
        [
         "33",
         "TransferToBothAcceptBill",
         "79015",
         "['Existence check']",
         "['Business rule conditions']",
         "",
         "Transformation"
        ],
        [
         "34",
         "changeCurStationBagSurplus",
         "77585",
         "['Data integrity']",
         "['Business rule conditions']",
         "",
         "Transformation"
        ],
        [
         "35",
         "takeReturningPackages",
         "77071",
         "['Existence check']",
         "['State/status conditions']",
         "",
         "Integration"
        ],
        [
         "36",
         "updateDeliverCod",
         "72915",
         "['Existence check', 'Data integrity']",
         "['State/status conditions']",
         "",
         "Transformation"
        ],
        [
         "37",
         "takeDeliveringPackages",
         "70258",
         "['Existence check']",
         "['Resource/Capacity conditions']",
         "",
         "Integration"
        ],
        [
         "38",
         "updateTmpPickingStatus",
         "67047",
         "['Existence check']",
         "['State/status conditions']",
         "",
         "Integration"
        ],
        [
         "39",
         "ScanPackageToBag",
         "66768",
         "['Existence check']",
         "['State/status conditions']",
         "",
         "Integration"
        ],
        [
         "40",
         "delayPickPackageReason",
         "64957",
         "['Existence check']",
         "['Business rule conditions']",
         "",
         "Transformation"
        ],
        [
         "41",
         "scanBox",
         "62809",
         "['Existence check']",
         "['State/status conditions', 'Resource/Capacity conditions']",
         "",
         "Integration"
        ],
        [
         "42",
         "autoReassignDateDeliver",
         "58887",
         "['Timing conditions']",
         "['Business rule conditions']",
         "",
         "Transformation"
        ],
        [
         "43",
         "confirmExportBox",
         "56289",
         "['Existence check', 'Data integrity']",
         "['Timing conditions']",
         "",
         "Integration"
        ],
        [
         "44",
         "changeAttributeForSurplus",
         "50070",
         "['Existence check']",
         "['Resource/Capacity conditions']",
         "",
         "Integration"
        ],
        [
         "45",
         "updateDeliveredCompletelyByCod",
         "44499",
         "['State/status conditions']",
         "['Business rule conditions']",
         "",
         "Transformation"
        ],
        [
         "46",
         "Refund_payment_qrBill",
         "44172",
         "['Existence check', 'Data integrity']",
         "['State/status conditions']",
         "",
         "Integration"
        ],
        [
         "47",
         "updateNotDeliveredByCod",
         "41073",
         "['State/status conditions']",
         "['Business rule conditions']",
         "",
         "Transformation"
        ],
        [
         "48",
         "feedbackReDelivery",
         "40798",
         "['Existence check', 'Timing conditions']",
         "['Business rule conditions']",
         "",
         "Integration"
        ],
        [
         "49",
         "updateDeliverWorkShiftPackage",
         "39590",
         "['Data integrity', 'Data format']",
         "['Timing conditions']",
         "",
         "Transformation"
        ]
       ],
       "shape": {
        "columns": 6,
        "rows": 268
       }
      },
      "text/html": [
       "<div>\n",
       "<style scoped>\n",
       "    .dataframe tbody tr th:only-of-type {\n",
       "        vertical-align: middle;\n",
       "    }\n",
       "\n",
       "    .dataframe tbody tr th {\n",
       "        vertical-align: top;\n",
       "    }\n",
       "\n",
       "    .dataframe thead th {\n",
       "        text-align: right;\n",
       "    }\n",
       "</style>\n",
       "<table border=\"1\" class=\"dataframe\">\n",
       "  <thead>\n",
       "    <tr style=\"text-align: right;\">\n",
       "      <th></th>\n",
       "      <th>action</th>\n",
       "      <th>frequency</th>\n",
       "      <th>type_condition</th>\n",
       "      <th>content_condition</th>\n",
       "      <th>composite_conditions</th>\n",
       "      <th>type_action</th>\n",
       "    </tr>\n",
       "  </thead>\n",
       "  <tbody>\n",
       "    <tr>\n",
       "      <th>0</th>\n",
       "      <td>distributorCfmDeliver</td>\n",
       "      <td>2032499</td>\n",
       "      <td>[Existence check]</td>\n",
       "      <td>[Resource/Capacity conditions]</td>\n",
       "      <td></td>\n",
       "      <td>Integration</td>\n",
       "    </tr>\n",
       "    <tr>\n",
       "      <th>1</th>\n",
       "      <td>assignCodPicking</td>\n",
       "      <td>1444438</td>\n",
       "      <td>[Existence check]</td>\n",
       "      <td>[Business rule conditions]</td>\n",
       "      <td></td>\n",
       "      <td>Integration</td>\n",
       "    </tr>\n",
       "    <tr>\n",
       "      <th>2</th>\n",
       "      <td>privateNotePackage</td>\n",
       "      <td>1430543</td>\n",
       "      <td>[Existence check]</td>\n",
       "      <td>[Business rule conditions]</td>\n",
       "      <td></td>\n",
       "      <td>Transformation</td>\n",
       "    </tr>\n",
       "    <tr>\n",
       "      <th>3</th>\n",
       "      <td>putPackages2Bag</td>\n",
       "      <td>838847</td>\n",
       "      <td>[Existence check]</td>\n",
       "      <td>[State/status conditions]</td>\n",
       "      <td></td>\n",
       "      <td>Transformation</td>\n",
       "    </tr>\n",
       "    <tr>\n",
       "      <th>4</th>\n",
       "      <td>PickupBill</td>\n",
       "      <td>812609</td>\n",
       "      <td>[Existence check]</td>\n",
       "      <td>[Resource/Capacity conditions]</td>\n",
       "      <td></td>\n",
       "      <td>Integration</td>\n",
       "    </tr>\n",
       "    <tr>\n",
       "      <th>...</th>\n",
       "      <td>...</td>\n",
       "      <td>...</td>\n",
       "      <td>...</td>\n",
       "      <td>...</td>\n",
       "      <td>...</td>\n",
       "      <td>...</td>\n",
       "    </tr>\n",
       "    <tr>\n",
       "      <th>263</th>\n",
       "      <td>returnPackageAtStation</td>\n",
       "      <td>2</td>\n",
       "      <td>[Existence check]</td>\n",
       "      <td>[Resource/Capacity conditions]</td>\n",
       "      <td></td>\n",
       "      <td>Integration</td>\n",
       "    </tr>\n",
       "    <tr>\n",
       "      <th>264</th>\n",
       "      <td>putPackages2QsBag</td>\n",
       "      <td>2</td>\n",
       "      <td>[Existence check]</td>\n",
       "      <td>[Resource/Capacity conditions]</td>\n",
       "      <td></td>\n",
       "      <td>Integration</td>\n",
       "    </tr>\n",
       "    <tr>\n",
       "      <th>265</th>\n",
       "      <td>changePackagesTransport</td>\n",
       "      <td>1</td>\n",
       "      <td>[Data range, Data format]</td>\n",
       "      <td>[Business rule conditions]</td>\n",
       "      <td>AND</td>\n",
       "      <td>Transformation</td>\n",
       "    </tr>\n",
       "    <tr>\n",
       "      <th>266</th>\n",
       "      <td>exportBigSizeReturnPackages</td>\n",
       "      <td>1</td>\n",
       "      <td>[Existence check]</td>\n",
       "      <td>[State/status conditions]</td>\n",
       "      <td></td>\n",
       "      <td>Integration</td>\n",
       "    </tr>\n",
       "    <tr>\n",
       "      <th>267</th>\n",
       "      <td>cancelNewPackage</td>\n",
       "      <td>1</td>\n",
       "      <td>[Existence check]</td>\n",
       "      <td>[Business rule conditions]</td>\n",
       "      <td></td>\n",
       "      <td>Transformation</td>\n",
       "    </tr>\n",
       "  </tbody>\n",
       "</table>\n",
       "<p>268 rows × 6 columns</p>\n",
       "</div>"
      ],
      "text/plain": [
       "                          action  frequency             type_condition  \\\n",
       "0          distributorCfmDeliver    2032499          [Existence check]   \n",
       "1               assignCodPicking    1444438          [Existence check]   \n",
       "2             privateNotePackage    1430543          [Existence check]   \n",
       "3                putPackages2Bag     838847          [Existence check]   \n",
       "4                     PickupBill     812609          [Existence check]   \n",
       "..                           ...        ...                        ...   \n",
       "263       returnPackageAtStation          2          [Existence check]   \n",
       "264            putPackages2QsBag          2          [Existence check]   \n",
       "265      changePackagesTransport          1  [Data range, Data format]   \n",
       "266  exportBigSizeReturnPackages          1          [Existence check]   \n",
       "267             cancelNewPackage          1          [Existence check]   \n",
       "\n",
       "                  content_condition composite_conditions     type_action  \n",
       "0    [Resource/Capacity conditions]                          Integration  \n",
       "1        [Business rule conditions]                          Integration  \n",
       "2        [Business rule conditions]                       Transformation  \n",
       "3         [State/status conditions]                       Transformation  \n",
       "4    [Resource/Capacity conditions]                          Integration  \n",
       "..                              ...                  ...             ...  \n",
       "263  [Resource/Capacity conditions]                          Integration  \n",
       "264  [Resource/Capacity conditions]                          Integration  \n",
       "265      [Business rule conditions]                  AND  Transformation  \n",
       "266       [State/status conditions]                          Integration  \n",
       "267      [Business rule conditions]                       Transformation  \n",
       "\n",
       "[268 rows x 6 columns]"
      ]
     },
     "execution_count": 64,
     "metadata": {},
     "output_type": "execute_result"
    }
   ],
   "source": [
    "data_final"
   ]
  },
  {
   "cell_type": "code",
   "execution_count": 71,
   "id": "95bc1659",
   "metadata": {},
   "outputs": [],
   "source": [
    "auto_candidates = data_final[(data_final['frequency'] > 10000)]\n"
   ]
  },
  {
   "cell_type": "code",
   "execution_count": 72,
   "id": "ccdd4921",
   "metadata": {},
   "outputs": [
    {
     "data": {
      "application/vnd.microsoft.datawrangler.viewer.v0+json": {
       "columns": [
        {
         "name": "index",
         "rawType": "int64",
         "type": "integer"
        },
        {
         "name": "action",
         "rawType": "object",
         "type": "string"
        },
        {
         "name": "frequency",
         "rawType": "int64",
         "type": "integer"
        },
        {
         "name": "type_condition",
         "rawType": "object",
         "type": "unknown"
        },
        {
         "name": "content_condition",
         "rawType": "object",
         "type": "unknown"
        },
        {
         "name": "composite_conditions",
         "rawType": "object",
         "type": "string"
        },
        {
         "name": "type_action",
         "rawType": "object",
         "type": "string"
        }
       ],
       "ref": "ddc724f5-a4fa-4852-ac61-8034ab876433",
       "rows": [
        [
         "0",
         "distributorCfmDeliver",
         "2032499",
         "['Existence check']",
         "['Resource/Capacity conditions']",
         "",
         "Integration"
        ],
        [
         "1",
         "assignCodPicking",
         "1444438",
         "['Existence check']",
         "['Business rule conditions']",
         "",
         "Integration"
        ],
        [
         "2",
         "privateNotePackage",
         "1430543",
         "['Existence check']",
         "['Business rule conditions']",
         "",
         "Transformation"
        ],
        [
         "3",
         "putPackages2Bag",
         "838847",
         "['Existence check']",
         "['State/status conditions']",
         "",
         "Transformation"
        ],
        [
         "4",
         "PickupBill",
         "812609",
         "['Existence check']",
         "['Resource/Capacity conditions']",
         "",
         "Integration"
        ],
        [
         "5",
         "confirmTmpPickedPackageStatus",
         "811439",
         "['Data integrity']",
         "['State/status conditions']",
         "",
         "Transformation"
        ],
        [
         "6",
         "updateDeliverWorkshiftByCod",
         "724587",
         "['Timing conditions', 'Data integrity']",
         "['Business rule conditions']",
         "AND",
         "Transformation"
        ],
        [
         "7",
         "assignBagWithIdentifyBag",
         "723186",
         "['Existence check']",
         "['State/status conditions']",
         "",
         "Integration"
        ],
        [
         "8",
         "verifySessionPackage",
         "689592",
         "['Existence check']",
         "['State/status conditions']",
         "",
         "Integration"
        ],
        [
         "9",
         "verifySessionBags",
         "686533",
         "['Existence check', 'Data range']",
         "['State/status conditions']",
         "",
         "Integration"
        ],
        [
         "10",
         "smartScaleScanningPackage",
         "682191",
         "['Data integrity', 'Data format', 'Data range', 'Existence check']",
         "['State/status conditions']",
         "",
         "Integration"
        ],
        [
         "11",
         "TransferToBothBill",
         "623364",
         "['Existence check']",
         "['Business rule conditions']",
         "",
         "Transformation"
        ],
        [
         "12",
         "cfmTransit",
         "612373",
         "['Existence check', 'Data integrity']",
         "['State/status conditions']",
         "",
         "Integration"
        ],
        [
         "13",
         "updatePickedByCod",
         "541249",
         "['Data integrity']",
         "['State/status conditions']",
         "",
         "Transformation"
        ],
        [
         "14",
         "PickupCrossProvinceBill",
         "499609",
         "['Existence check', 'Data integrity']",
         "['State/status conditions']",
         "",
         "Integration"
        ],
        [
         "15",
         "confirmTmpDeliveredPackageStatus",
         "340580",
         "['Data integrity']",
         "['State/status conditions']",
         "",
         "Transformation"
        ],
        [
         "16",
         "ReturnBill",
         "311508",
         "['Existence check']",
         "['Business rule conditions']",
         "",
         "Integration"
        ],
        [
         "17",
         "RefundBill",
         "304210",
         "['Existence check']",
         "['Business rule conditions']",
         "",
         "Integration"
        ],
        [
         "18",
         "confirmTmpReturnedPackageStatus",
         "283508",
         "['Data integrity']",
         "['State/status conditions']",
         "",
         "Transformation"
        ],
        [
         "19",
         "updateReturnedByCod",
         "268049",
         "['State/status conditions']",
         "['Business rule conditions']",
         "",
         "Transformation"
        ],
        [
         "20",
         "updateDelayDeliveringByCod",
         "238530",
         "['State/status conditions']",
         "['Business rule conditions']",
         "",
         "Transformation"
        ],
        [
         "21",
         "changePackageStatus",
         "227671",
         "['Existence check']",
         "['State/status conditions', 'Business rule conditions']",
         "",
         "Integration"
        ],
        [
         "22",
         "distributorCfmReturning",
         "225845",
         "['Existence check']",
         "['Authentication/Authorization conditions']",
         "",
         "Integration"
        ],
        [
         "23",
         "printfPackage",
         "200957",
         "['Existence check']",
         "['Resource/Capacity conditions']",
         "",
         "Integration"
        ],
        [
         "24",
         "updateDelayPickingByCod",
         "196478",
         "['Data integrity']",
         "['State/status conditions']",
         "",
         "Transformation"
        ],
        [
         "25",
         "importStationByDistributer",
         "148782",
         "['Existence check']",
         "['State/status conditions']",
         "",
         "Integration"
        ],
        [
         "26",
         "putInBox",
         "133658",
         "['Existence check']",
         "['State/status conditions']",
         "",
         "Transformation"
        ],
        [
         "27",
         "changeCodForPackagesInCart",
         "121545",
         "['Existence check']",
         "['Resource/Capacity conditions']",
         "",
         "Transformation"
        ],
        [
         "28",
         "cfmImpPkgFrPONew",
         "116513",
         "['Data integrity']",
         "['State/status conditions']",
         "",
         "Transformation"
        ],
        [
         "29",
         "saveIsfrageImages",
         "99357",
         "['Data integrity']",
         "['State/status conditions']",
         "",
         "Integration"
        ],
        [
         "30",
         "editPackage",
         "95427",
         "['Existence check']",
         "['Business rule conditions']",
         "",
         "Transformation"
        ],
        [
         "31",
         "approvedDeliveryDate",
         "91084",
         "['Data integrity', 'Data format']",
         "['Timing conditions', 'Business rule conditions']",
         "",
         "Integration"
        ],
        [
         "32",
         "cfmImportV4JobQ",
         "83520",
         "['Existence check']",
         "['State/status conditions']",
         "",
         "Integration"
        ],
        [
         "33",
         "TransferToBothAcceptBill",
         "79015",
         "['Existence check']",
         "['Business rule conditions']",
         "",
         "Transformation"
        ],
        [
         "34",
         "changeCurStationBagSurplus",
         "77585",
         "['Data integrity']",
         "['Business rule conditions']",
         "",
         "Transformation"
        ],
        [
         "35",
         "takeReturningPackages",
         "77071",
         "['Existence check']",
         "['State/status conditions']",
         "",
         "Integration"
        ],
        [
         "36",
         "updateDeliverCod",
         "72915",
         "['Existence check', 'Data integrity']",
         "['State/status conditions']",
         "",
         "Transformation"
        ],
        [
         "37",
         "takeDeliveringPackages",
         "70258",
         "['Existence check']",
         "['Resource/Capacity conditions']",
         "",
         "Integration"
        ],
        [
         "38",
         "updateTmpPickingStatus",
         "67047",
         "['Existence check']",
         "['State/status conditions']",
         "",
         "Integration"
        ],
        [
         "39",
         "ScanPackageToBag",
         "66768",
         "['Existence check']",
         "['State/status conditions']",
         "",
         "Integration"
        ],
        [
         "40",
         "delayPickPackageReason",
         "64957",
         "['Existence check']",
         "['Business rule conditions']",
         "",
         "Transformation"
        ],
        [
         "41",
         "scanBox",
         "62809",
         "['Existence check']",
         "['State/status conditions', 'Resource/Capacity conditions']",
         "",
         "Integration"
        ],
        [
         "42",
         "autoReassignDateDeliver",
         "58887",
         "['Timing conditions']",
         "['Business rule conditions']",
         "",
         "Transformation"
        ],
        [
         "43",
         "confirmExportBox",
         "56289",
         "['Existence check', 'Data integrity']",
         "['Timing conditions']",
         "",
         "Integration"
        ],
        [
         "44",
         "changeAttributeForSurplus",
         "50070",
         "['Existence check']",
         "['Resource/Capacity conditions']",
         "",
         "Integration"
        ],
        [
         "45",
         "updateDeliveredCompletelyByCod",
         "44499",
         "['State/status conditions']",
         "['Business rule conditions']",
         "",
         "Transformation"
        ],
        [
         "46",
         "Refund_payment_qrBill",
         "44172",
         "['Existence check', 'Data integrity']",
         "['State/status conditions']",
         "",
         "Integration"
        ],
        [
         "47",
         "updateNotDeliveredByCod",
         "41073",
         "['State/status conditions']",
         "['Business rule conditions']",
         "",
         "Transformation"
        ],
        [
         "48",
         "feedbackReDelivery",
         "40798",
         "['Existence check', 'Timing conditions']",
         "['Business rule conditions']",
         "",
         "Integration"
        ],
        [
         "49",
         "updateDeliverWorkShiftPackage",
         "39590",
         "['Data integrity', 'Data format']",
         "['Timing conditions']",
         "",
         "Transformation"
        ]
       ],
       "shape": {
        "columns": 6,
        "rows": 78
       }
      },
      "text/html": [
       "<div>\n",
       "<style scoped>\n",
       "    .dataframe tbody tr th:only-of-type {\n",
       "        vertical-align: middle;\n",
       "    }\n",
       "\n",
       "    .dataframe tbody tr th {\n",
       "        vertical-align: top;\n",
       "    }\n",
       "\n",
       "    .dataframe thead th {\n",
       "        text-align: right;\n",
       "    }\n",
       "</style>\n",
       "<table border=\"1\" class=\"dataframe\">\n",
       "  <thead>\n",
       "    <tr style=\"text-align: right;\">\n",
       "      <th></th>\n",
       "      <th>action</th>\n",
       "      <th>frequency</th>\n",
       "      <th>type_condition</th>\n",
       "      <th>content_condition</th>\n",
       "      <th>composite_conditions</th>\n",
       "      <th>type_action</th>\n",
       "    </tr>\n",
       "  </thead>\n",
       "  <tbody>\n",
       "    <tr>\n",
       "      <th>0</th>\n",
       "      <td>distributorCfmDeliver</td>\n",
       "      <td>2032499</td>\n",
       "      <td>[Existence check]</td>\n",
       "      <td>[Resource/Capacity conditions]</td>\n",
       "      <td></td>\n",
       "      <td>Integration</td>\n",
       "    </tr>\n",
       "    <tr>\n",
       "      <th>1</th>\n",
       "      <td>assignCodPicking</td>\n",
       "      <td>1444438</td>\n",
       "      <td>[Existence check]</td>\n",
       "      <td>[Business rule conditions]</td>\n",
       "      <td></td>\n",
       "      <td>Integration</td>\n",
       "    </tr>\n",
       "    <tr>\n",
       "      <th>2</th>\n",
       "      <td>privateNotePackage</td>\n",
       "      <td>1430543</td>\n",
       "      <td>[Existence check]</td>\n",
       "      <td>[Business rule conditions]</td>\n",
       "      <td></td>\n",
       "      <td>Transformation</td>\n",
       "    </tr>\n",
       "    <tr>\n",
       "      <th>3</th>\n",
       "      <td>putPackages2Bag</td>\n",
       "      <td>838847</td>\n",
       "      <td>[Existence check]</td>\n",
       "      <td>[State/status conditions]</td>\n",
       "      <td></td>\n",
       "      <td>Transformation</td>\n",
       "    </tr>\n",
       "    <tr>\n",
       "      <th>4</th>\n",
       "      <td>PickupBill</td>\n",
       "      <td>812609</td>\n",
       "      <td>[Existence check]</td>\n",
       "      <td>[Resource/Capacity conditions]</td>\n",
       "      <td></td>\n",
       "      <td>Integration</td>\n",
       "    </tr>\n",
       "    <tr>\n",
       "      <th>...</th>\n",
       "      <td>...</td>\n",
       "      <td>...</td>\n",
       "      <td>...</td>\n",
       "      <td>...</td>\n",
       "      <td>...</td>\n",
       "      <td>...</td>\n",
       "    </tr>\n",
       "    <tr>\n",
       "      <th>73</th>\n",
       "      <td>confirmPackageHandover</td>\n",
       "      <td>12129</td>\n",
       "      <td>[Data integrity]</td>\n",
       "      <td>[State/status conditions]</td>\n",
       "      <td></td>\n",
       "      <td>Transformation</td>\n",
       "    </tr>\n",
       "    <tr>\n",
       "      <th>74</th>\n",
       "      <td>changeAlias</td>\n",
       "      <td>11879</td>\n",
       "      <td>[Data format, Data integrity]</td>\n",
       "      <td>[Business rule conditions]</td>\n",
       "      <td>AND</td>\n",
       "      <td>Transformation</td>\n",
       "    </tr>\n",
       "    <tr>\n",
       "      <th>75</th>\n",
       "      <td>ArriveDeliveringPoint</td>\n",
       "      <td>11753</td>\n",
       "      <td>[State/status conditions]</td>\n",
       "      <td>[Business rule conditions]</td>\n",
       "      <td></td>\n",
       "      <td>Integration</td>\n",
       "    </tr>\n",
       "    <tr>\n",
       "      <th>76</th>\n",
       "      <td>delayReturnPackageReason</td>\n",
       "      <td>11238</td>\n",
       "      <td>[Existence check]</td>\n",
       "      <td>[Business rule conditions]</td>\n",
       "      <td></td>\n",
       "      <td>Integration</td>\n",
       "    </tr>\n",
       "    <tr>\n",
       "      <th>77</th>\n",
       "      <td>changeTrfSorting</td>\n",
       "      <td>10073</td>\n",
       "      <td>[Data integrity]</td>\n",
       "      <td>[State/status conditions]</td>\n",
       "      <td></td>\n",
       "      <td>Transformation</td>\n",
       "    </tr>\n",
       "  </tbody>\n",
       "</table>\n",
       "<p>78 rows × 6 columns</p>\n",
       "</div>"
      ],
      "text/plain": [
       "                      action  frequency                 type_condition  \\\n",
       "0      distributorCfmDeliver    2032499              [Existence check]   \n",
       "1           assignCodPicking    1444438              [Existence check]   \n",
       "2         privateNotePackage    1430543              [Existence check]   \n",
       "3            putPackages2Bag     838847              [Existence check]   \n",
       "4                 PickupBill     812609              [Existence check]   \n",
       "..                       ...        ...                            ...   \n",
       "73    confirmPackageHandover      12129               [Data integrity]   \n",
       "74               changeAlias      11879  [Data format, Data integrity]   \n",
       "75     ArriveDeliveringPoint      11753      [State/status conditions]   \n",
       "76  delayReturnPackageReason      11238              [Existence check]   \n",
       "77          changeTrfSorting      10073               [Data integrity]   \n",
       "\n",
       "                 content_condition composite_conditions     type_action  \n",
       "0   [Resource/Capacity conditions]                          Integration  \n",
       "1       [Business rule conditions]                          Integration  \n",
       "2       [Business rule conditions]                       Transformation  \n",
       "3        [State/status conditions]                       Transformation  \n",
       "4   [Resource/Capacity conditions]                          Integration  \n",
       "..                             ...                  ...             ...  \n",
       "73       [State/status conditions]                       Transformation  \n",
       "74      [Business rule conditions]                  AND  Transformation  \n",
       "75      [Business rule conditions]                          Integration  \n",
       "76      [Business rule conditions]                          Integration  \n",
       "77       [State/status conditions]                       Transformation  \n",
       "\n",
       "[78 rows x 6 columns]"
      ]
     },
     "execution_count": 72,
     "metadata": {},
     "output_type": "execute_result"
    }
   ],
   "source": [
    "auto_candidates"
   ]
  },
  {
   "cell_type": "code",
   "execution_count": 73,
   "id": "53f258a5",
   "metadata": {},
   "outputs": [
    {
     "data": {
      "application/vnd.microsoft.datawrangler.viewer.v0+json": {
       "columns": [
        {
         "name": "type_action",
         "rawType": "object",
         "type": "string"
        },
        {
         "name": "count",
         "rawType": "int64",
         "type": "integer"
        }
       ],
       "ref": "3a58a3ba-b01e-42ad-a814-cc5d6be9cd29",
       "rows": [
        [
         "Integration",
         "43"
        ],
        [
         "Transformation",
         "34"
        ],
        [
         "Logic",
         "1"
        ]
       ],
       "shape": {
        "columns": 1,
        "rows": 3
       }
      },
      "text/plain": [
       "type_action\n",
       "Integration       43\n",
       "Transformation    34\n",
       "Logic              1\n",
       "Name: count, dtype: int64"
      ]
     },
     "execution_count": 73,
     "metadata": {},
     "output_type": "execute_result"
    }
   ],
   "source": [
    "auto_candidates[\"type_action\"].value_counts()"
   ]
  },
  {
   "cell_type": "code",
   "execution_count": 78,
   "id": "ec8a7369",
   "metadata": {},
   "outputs": [
    {
     "data": {
      "text/plain": [
       "0.6794871794871795"
      ]
     },
     "execution_count": 78,
     "metadata": {},
     "output_type": "execute_result"
    }
   ],
   "source": [
    "53/78"
   ]
  },
  {
   "cell_type": "code",
   "execution_count": 74,
   "id": "89884393",
   "metadata": {},
   "outputs": [
    {
     "data": {
      "application/vnd.microsoft.datawrangler.viewer.v0+json": {
       "columns": [
        {
         "name": "type_condition",
         "rawType": "object",
         "type": "unknown"
        },
        {
         "name": "count",
         "rawType": "int64",
         "type": "integer"
        }
       ],
       "ref": "894b51c9-62d0-45dc-8f66-90b3957febbf",
       "rows": [
        [
         "['Existence check']",
         "39"
        ],
        [
         "['Data integrity']",
         "14"
        ],
        [
         "['Existence check', 'Data integrity']",
         "9"
        ],
        [
         "['State/status conditions']",
         "6"
        ],
        [
         "['Data integrity', 'Data format']",
         "2"
        ],
        [
         "['Timing conditions', 'Data integrity']",
         "1"
        ],
        [
         "['Existence check', 'Data range']",
         "1"
        ],
        [
         "['Data integrity', 'Data format', 'Data range', 'Existence check']",
         "1"
        ],
        [
         "['Timing conditions']",
         "1"
        ],
        [
         "['Existence check', 'Timing conditions']",
         "1"
        ],
        [
         "['Data integrity', 'Existence check', 'Data format']",
         "1"
        ],
        [
         "['Data format', 'Existence check']",
         "1"
        ],
        [
         "['Data format', 'Data integrity']",
         "1"
        ]
       ],
       "shape": {
        "columns": 1,
        "rows": 13
       }
      },
      "text/plain": [
       "type_condition\n",
       "[Existence check]                                             39\n",
       "[Data integrity]                                              14\n",
       "[Existence check, Data integrity]                              9\n",
       "[State/status conditions]                                      6\n",
       "[Data integrity, Data format]                                  2\n",
       "[Timing conditions, Data integrity]                            1\n",
       "[Existence check, Data range]                                  1\n",
       "[Data integrity, Data format, Data range, Existence check]     1\n",
       "[Timing conditions]                                            1\n",
       "[Existence check, Timing conditions]                           1\n",
       "[Data integrity, Existence check, Data format]                 1\n",
       "[Data format, Existence check]                                 1\n",
       "[Data format, Data integrity]                                  1\n",
       "Name: count, dtype: int64"
      ]
     },
     "execution_count": 74,
     "metadata": {},
     "output_type": "execute_result"
    }
   ],
   "source": [
    "auto_candidates[\"type_condition\"].value_counts()"
   ]
  },
  {
   "cell_type": "code",
   "execution_count": 82,
   "id": "7d95282b",
   "metadata": {},
   "outputs": [
    {
     "data": {
      "application/vnd.microsoft.datawrangler.viewer.v0+json": {
       "columns": [
        {
         "name": "index",
         "rawType": "int64",
         "type": "integer"
        },
        {
         "name": "action",
         "rawType": "object",
         "type": "string"
        },
        {
         "name": "frequency",
         "rawType": "int64",
         "type": "integer"
        },
        {
         "name": "type_condition",
         "rawType": "object",
         "type": "unknown"
        },
        {
         "name": "content_condition",
         "rawType": "object",
         "type": "unknown"
        },
        {
         "name": "composite_conditions",
         "rawType": "object",
         "type": "string"
        },
        {
         "name": "type_action",
         "rawType": "object",
         "type": "string"
        }
       ],
       "ref": "1ab2f75f-d3d0-4999-8437-dffc0cb278a3",
       "rows": [
        [
         "0",
         "distributorCfmDeliver",
         "2032499",
         "['Existence check']",
         "['Resource/Capacity conditions']",
         "",
         "Integration"
        ],
        [
         "1",
         "assignCodPicking",
         "1444438",
         "['Existence check']",
         "['Business rule conditions']",
         "",
         "Integration"
        ],
        [
         "2",
         "privateNotePackage",
         "1430543",
         "['Existence check']",
         "['Business rule conditions']",
         "",
         "Transformation"
        ],
        [
         "3",
         "putPackages2Bag",
         "838847",
         "['Existence check']",
         "['State/status conditions']",
         "",
         "Transformation"
        ],
        [
         "4",
         "PickupBill",
         "812609",
         "['Existence check']",
         "['Resource/Capacity conditions']",
         "",
         "Integration"
        ],
        [
         "7",
         "assignBagWithIdentifyBag",
         "723186",
         "['Existence check']",
         "['State/status conditions']",
         "",
         "Integration"
        ],
        [
         "8",
         "verifySessionPackage",
         "689592",
         "['Existence check']",
         "['State/status conditions']",
         "",
         "Integration"
        ],
        [
         "9",
         "verifySessionBags",
         "686533",
         "['Existence check', 'Data range']",
         "['State/status conditions']",
         "",
         "Integration"
        ],
        [
         "10",
         "smartScaleScanningPackage",
         "682191",
         "['Data integrity', 'Data format', 'Data range', 'Existence check']",
         "['State/status conditions']",
         "",
         "Integration"
        ],
        [
         "11",
         "TransferToBothBill",
         "623364",
         "['Existence check']",
         "['Business rule conditions']",
         "",
         "Transformation"
        ],
        [
         "12",
         "cfmTransit",
         "612373",
         "['Existence check', 'Data integrity']",
         "['State/status conditions']",
         "",
         "Integration"
        ],
        [
         "14",
         "PickupCrossProvinceBill",
         "499609",
         "['Existence check', 'Data integrity']",
         "['State/status conditions']",
         "",
         "Integration"
        ],
        [
         "16",
         "ReturnBill",
         "311508",
         "['Existence check']",
         "['Business rule conditions']",
         "",
         "Integration"
        ],
        [
         "17",
         "RefundBill",
         "304210",
         "['Existence check']",
         "['Business rule conditions']",
         "",
         "Integration"
        ],
        [
         "21",
         "changePackageStatus",
         "227671",
         "['Existence check']",
         "['State/status conditions', 'Business rule conditions']",
         "",
         "Integration"
        ],
        [
         "22",
         "distributorCfmReturning",
         "225845",
         "['Existence check']",
         "['Authentication/Authorization conditions']",
         "",
         "Integration"
        ],
        [
         "23",
         "printfPackage",
         "200957",
         "['Existence check']",
         "['Resource/Capacity conditions']",
         "",
         "Integration"
        ],
        [
         "25",
         "importStationByDistributer",
         "148782",
         "['Existence check']",
         "['State/status conditions']",
         "",
         "Integration"
        ],
        [
         "26",
         "putInBox",
         "133658",
         "['Existence check']",
         "['State/status conditions']",
         "",
         "Transformation"
        ],
        [
         "27",
         "changeCodForPackagesInCart",
         "121545",
         "['Existence check']",
         "['Resource/Capacity conditions']",
         "",
         "Transformation"
        ],
        [
         "30",
         "editPackage",
         "95427",
         "['Existence check']",
         "['Business rule conditions']",
         "",
         "Transformation"
        ],
        [
         "32",
         "cfmImportV4JobQ",
         "83520",
         "['Existence check']",
         "['State/status conditions']",
         "",
         "Integration"
        ],
        [
         "33",
         "TransferToBothAcceptBill",
         "79015",
         "['Existence check']",
         "['Business rule conditions']",
         "",
         "Transformation"
        ],
        [
         "35",
         "takeReturningPackages",
         "77071",
         "['Existence check']",
         "['State/status conditions']",
         "",
         "Integration"
        ],
        [
         "36",
         "updateDeliverCod",
         "72915",
         "['Existence check', 'Data integrity']",
         "['State/status conditions']",
         "",
         "Transformation"
        ],
        [
         "37",
         "takeDeliveringPackages",
         "70258",
         "['Existence check']",
         "['Resource/Capacity conditions']",
         "",
         "Integration"
        ],
        [
         "38",
         "updateTmpPickingStatus",
         "67047",
         "['Existence check']",
         "['State/status conditions']",
         "",
         "Integration"
        ],
        [
         "39",
         "ScanPackageToBag",
         "66768",
         "['Existence check']",
         "['State/status conditions']",
         "",
         "Integration"
        ],
        [
         "40",
         "delayPickPackageReason",
         "64957",
         "['Existence check']",
         "['Business rule conditions']",
         "",
         "Transformation"
        ],
        [
         "41",
         "scanBox",
         "62809",
         "['Existence check']",
         "['State/status conditions', 'Resource/Capacity conditions']",
         "",
         "Integration"
        ],
        [
         "43",
         "confirmExportBox",
         "56289",
         "['Existence check', 'Data integrity']",
         "['Timing conditions']",
         "",
         "Integration"
        ],
        [
         "44",
         "changeAttributeForSurplus",
         "50070",
         "['Existence check']",
         "['Resource/Capacity conditions']",
         "",
         "Integration"
        ],
        [
         "46",
         "Refund_payment_qrBill",
         "44172",
         "['Existence check', 'Data integrity']",
         "['State/status conditions']",
         "",
         "Integration"
        ],
        [
         "48",
         "feedbackReDelivery",
         "40798",
         "['Existence check', 'Timing conditions']",
         "['Business rule conditions']",
         "",
         "Integration"
        ],
        [
         "50",
         "TakeAPhotoReturnRequest",
         "37767",
         "['Existence check']",
         "['Resource/Capacity conditions', 'Authentication/Authorization conditions']",
         "AND",
         "Integration"
        ],
        [
         "51",
         "NVBCTakeAPhotoDelivery",
         "32746",
         "['Existence check']",
         "['Resource/Capacity conditions', 'Authentication/Authorization conditions']",
         "AND",
         "Integration"
        ],
        [
         "52",
         "changePickCartByInstantDistribution",
         "31828",
         "['Existence check']",
         "['Business rule conditions']",
         "",
         "Integration"
        ],
        [
         "54",
         "scanPackageCreateBagB2C",
         "28710",
         "['Existence check']",
         "['State/status conditions']",
         "",
         "Transformation"
        ],
        [
         "56",
         "putPackages2TmpBag",
         "27924",
         "['Existence check']",
         "['Resource/Capacity conditions']",
         "",
         "Integration"
        ],
        [
         "57",
         "confirmTmpPickedPackageStatusFromPO",
         "26472",
         "['Existence check']",
         "['State/status conditions']",
         "",
         "Integration"
        ],
        [
         "60",
         "cfmDonePrepaymnet",
         "22262",
         "['Existence check']",
         "['Business rule conditions']",
         "",
         "Integration"
        ],
        [
         "62",
         "confirmIssueHandovers",
         "20399",
         "['Existence check']",
         "['State/status conditions']",
         "",
         "Integration"
        ],
        [
         "63",
         "checkPackageSealScanned",
         "20112",
         "['Data integrity', 'Existence check', 'Data format']",
         "['Business rule conditions']",
         "AND",
         "Integration"
        ],
        [
         "64",
         "saveRealImportStation",
         "18618",
         "['Existence check', 'Data integrity']",
         "['State/status conditions']",
         "",
         "Integration"
        ],
        [
         "65",
         "changeCart",
         "18518",
         "['Existence check', 'Data integrity']",
         "['State/status conditions']",
         "",
         "Transformation"
        ],
        [
         "66",
         "saveSealForSpecialPackage",
         "15658",
         "['Existence check', 'Data integrity']",
         "['State/status conditions']",
         "",
         "Transformation"
        ],
        [
         "67",
         "changeCod",
         "15637",
         "['Existence check', 'Data integrity']",
         "['State/status conditions']",
         "",
         "Transformation"
        ],
        [
         "68",
         "PrepaymentBill",
         "15113",
         "['Data format', 'Existence check']",
         "['Business rule conditions']",
         "",
         "Integration"
        ],
        [
         "69",
         "ArrivePickingPoint",
         "14807",
         "['Existence check']",
         "['State/status conditions']",
         "",
         "Integration"
        ],
        [
         "70",
         "NVBCConfirmImageWorkshift",
         "14729",
         "['Existence check']",
         "['Resource/Capacity conditions', 'Authentication/Authorization conditions']",
         "AND",
         "Integration"
        ]
       ],
       "shape": {
        "columns": 6,
        "rows": 53
       }
      },
      "text/html": [
       "<div>\n",
       "<style scoped>\n",
       "    .dataframe tbody tr th:only-of-type {\n",
       "        vertical-align: middle;\n",
       "    }\n",
       "\n",
       "    .dataframe tbody tr th {\n",
       "        vertical-align: top;\n",
       "    }\n",
       "\n",
       "    .dataframe thead th {\n",
       "        text-align: right;\n",
       "    }\n",
       "</style>\n",
       "<table border=\"1\" class=\"dataframe\">\n",
       "  <thead>\n",
       "    <tr style=\"text-align: right;\">\n",
       "      <th></th>\n",
       "      <th>action</th>\n",
       "      <th>frequency</th>\n",
       "      <th>type_condition</th>\n",
       "      <th>content_condition</th>\n",
       "      <th>composite_conditions</th>\n",
       "      <th>type_action</th>\n",
       "    </tr>\n",
       "  </thead>\n",
       "  <tbody>\n",
       "    <tr>\n",
       "      <th>0</th>\n",
       "      <td>distributorCfmDeliver</td>\n",
       "      <td>2032499</td>\n",
       "      <td>[Existence check]</td>\n",
       "      <td>[Resource/Capacity conditions]</td>\n",
       "      <td></td>\n",
       "      <td>Integration</td>\n",
       "    </tr>\n",
       "    <tr>\n",
       "      <th>1</th>\n",
       "      <td>assignCodPicking</td>\n",
       "      <td>1444438</td>\n",
       "      <td>[Existence check]</td>\n",
       "      <td>[Business rule conditions]</td>\n",
       "      <td></td>\n",
       "      <td>Integration</td>\n",
       "    </tr>\n",
       "    <tr>\n",
       "      <th>2</th>\n",
       "      <td>privateNotePackage</td>\n",
       "      <td>1430543</td>\n",
       "      <td>[Existence check]</td>\n",
       "      <td>[Business rule conditions]</td>\n",
       "      <td></td>\n",
       "      <td>Transformation</td>\n",
       "    </tr>\n",
       "    <tr>\n",
       "      <th>3</th>\n",
       "      <td>putPackages2Bag</td>\n",
       "      <td>838847</td>\n",
       "      <td>[Existence check]</td>\n",
       "      <td>[State/status conditions]</td>\n",
       "      <td></td>\n",
       "      <td>Transformation</td>\n",
       "    </tr>\n",
       "    <tr>\n",
       "      <th>4</th>\n",
       "      <td>PickupBill</td>\n",
       "      <td>812609</td>\n",
       "      <td>[Existence check]</td>\n",
       "      <td>[Resource/Capacity conditions]</td>\n",
       "      <td></td>\n",
       "      <td>Integration</td>\n",
       "    </tr>\n",
       "    <tr>\n",
       "      <th>7</th>\n",
       "      <td>assignBagWithIdentifyBag</td>\n",
       "      <td>723186</td>\n",
       "      <td>[Existence check]</td>\n",
       "      <td>[State/status conditions]</td>\n",
       "      <td></td>\n",
       "      <td>Integration</td>\n",
       "    </tr>\n",
       "    <tr>\n",
       "      <th>8</th>\n",
       "      <td>verifySessionPackage</td>\n",
       "      <td>689592</td>\n",
       "      <td>[Existence check]</td>\n",
       "      <td>[State/status conditions]</td>\n",
       "      <td></td>\n",
       "      <td>Integration</td>\n",
       "    </tr>\n",
       "    <tr>\n",
       "      <th>9</th>\n",
       "      <td>verifySessionBags</td>\n",
       "      <td>686533</td>\n",
       "      <td>[Existence check, Data range]</td>\n",
       "      <td>[State/status conditions]</td>\n",
       "      <td></td>\n",
       "      <td>Integration</td>\n",
       "    </tr>\n",
       "    <tr>\n",
       "      <th>10</th>\n",
       "      <td>smartScaleScanningPackage</td>\n",
       "      <td>682191</td>\n",
       "      <td>[Data integrity, Data format, Data range, Exis...</td>\n",
       "      <td>[State/status conditions]</td>\n",
       "      <td></td>\n",
       "      <td>Integration</td>\n",
       "    </tr>\n",
       "    <tr>\n",
       "      <th>11</th>\n",
       "      <td>TransferToBothBill</td>\n",
       "      <td>623364</td>\n",
       "      <td>[Existence check]</td>\n",
       "      <td>[Business rule conditions]</td>\n",
       "      <td></td>\n",
       "      <td>Transformation</td>\n",
       "    </tr>\n",
       "    <tr>\n",
       "      <th>12</th>\n",
       "      <td>cfmTransit</td>\n",
       "      <td>612373</td>\n",
       "      <td>[Existence check, Data integrity]</td>\n",
       "      <td>[State/status conditions]</td>\n",
       "      <td></td>\n",
       "      <td>Integration</td>\n",
       "    </tr>\n",
       "    <tr>\n",
       "      <th>14</th>\n",
       "      <td>PickupCrossProvinceBill</td>\n",
       "      <td>499609</td>\n",
       "      <td>[Existence check, Data integrity]</td>\n",
       "      <td>[State/status conditions]</td>\n",
       "      <td></td>\n",
       "      <td>Integration</td>\n",
       "    </tr>\n",
       "    <tr>\n",
       "      <th>16</th>\n",
       "      <td>ReturnBill</td>\n",
       "      <td>311508</td>\n",
       "      <td>[Existence check]</td>\n",
       "      <td>[Business rule conditions]</td>\n",
       "      <td></td>\n",
       "      <td>Integration</td>\n",
       "    </tr>\n",
       "    <tr>\n",
       "      <th>17</th>\n",
       "      <td>RefundBill</td>\n",
       "      <td>304210</td>\n",
       "      <td>[Existence check]</td>\n",
       "      <td>[Business rule conditions]</td>\n",
       "      <td></td>\n",
       "      <td>Integration</td>\n",
       "    </tr>\n",
       "    <tr>\n",
       "      <th>21</th>\n",
       "      <td>changePackageStatus</td>\n",
       "      <td>227671</td>\n",
       "      <td>[Existence check]</td>\n",
       "      <td>[State/status conditions, Business rule condit...</td>\n",
       "      <td></td>\n",
       "      <td>Integration</td>\n",
       "    </tr>\n",
       "    <tr>\n",
       "      <th>22</th>\n",
       "      <td>distributorCfmReturning</td>\n",
       "      <td>225845</td>\n",
       "      <td>[Existence check]</td>\n",
       "      <td>[Authentication/Authorization conditions]</td>\n",
       "      <td></td>\n",
       "      <td>Integration</td>\n",
       "    </tr>\n",
       "    <tr>\n",
       "      <th>23</th>\n",
       "      <td>printfPackage</td>\n",
       "      <td>200957</td>\n",
       "      <td>[Existence check]</td>\n",
       "      <td>[Resource/Capacity conditions]</td>\n",
       "      <td></td>\n",
       "      <td>Integration</td>\n",
       "    </tr>\n",
       "    <tr>\n",
       "      <th>25</th>\n",
       "      <td>importStationByDistributer</td>\n",
       "      <td>148782</td>\n",
       "      <td>[Existence check]</td>\n",
       "      <td>[State/status conditions]</td>\n",
       "      <td></td>\n",
       "      <td>Integration</td>\n",
       "    </tr>\n",
       "    <tr>\n",
       "      <th>26</th>\n",
       "      <td>putInBox</td>\n",
       "      <td>133658</td>\n",
       "      <td>[Existence check]</td>\n",
       "      <td>[State/status conditions]</td>\n",
       "      <td></td>\n",
       "      <td>Transformation</td>\n",
       "    </tr>\n",
       "    <tr>\n",
       "      <th>27</th>\n",
       "      <td>changeCodForPackagesInCart</td>\n",
       "      <td>121545</td>\n",
       "      <td>[Existence check]</td>\n",
       "      <td>[Resource/Capacity conditions]</td>\n",
       "      <td></td>\n",
       "      <td>Transformation</td>\n",
       "    </tr>\n",
       "    <tr>\n",
       "      <th>30</th>\n",
       "      <td>editPackage</td>\n",
       "      <td>95427</td>\n",
       "      <td>[Existence check]</td>\n",
       "      <td>[Business rule conditions]</td>\n",
       "      <td></td>\n",
       "      <td>Transformation</td>\n",
       "    </tr>\n",
       "    <tr>\n",
       "      <th>32</th>\n",
       "      <td>cfmImportV4JobQ</td>\n",
       "      <td>83520</td>\n",
       "      <td>[Existence check]</td>\n",
       "      <td>[State/status conditions]</td>\n",
       "      <td></td>\n",
       "      <td>Integration</td>\n",
       "    </tr>\n",
       "    <tr>\n",
       "      <th>33</th>\n",
       "      <td>TransferToBothAcceptBill</td>\n",
       "      <td>79015</td>\n",
       "      <td>[Existence check]</td>\n",
       "      <td>[Business rule conditions]</td>\n",
       "      <td></td>\n",
       "      <td>Transformation</td>\n",
       "    </tr>\n",
       "    <tr>\n",
       "      <th>35</th>\n",
       "      <td>takeReturningPackages</td>\n",
       "      <td>77071</td>\n",
       "      <td>[Existence check]</td>\n",
       "      <td>[State/status conditions]</td>\n",
       "      <td></td>\n",
       "      <td>Integration</td>\n",
       "    </tr>\n",
       "    <tr>\n",
       "      <th>36</th>\n",
       "      <td>updateDeliverCod</td>\n",
       "      <td>72915</td>\n",
       "      <td>[Existence check, Data integrity]</td>\n",
       "      <td>[State/status conditions]</td>\n",
       "      <td></td>\n",
       "      <td>Transformation</td>\n",
       "    </tr>\n",
       "    <tr>\n",
       "      <th>37</th>\n",
       "      <td>takeDeliveringPackages</td>\n",
       "      <td>70258</td>\n",
       "      <td>[Existence check]</td>\n",
       "      <td>[Resource/Capacity conditions]</td>\n",
       "      <td></td>\n",
       "      <td>Integration</td>\n",
       "    </tr>\n",
       "    <tr>\n",
       "      <th>38</th>\n",
       "      <td>updateTmpPickingStatus</td>\n",
       "      <td>67047</td>\n",
       "      <td>[Existence check]</td>\n",
       "      <td>[State/status conditions]</td>\n",
       "      <td></td>\n",
       "      <td>Integration</td>\n",
       "    </tr>\n",
       "    <tr>\n",
       "      <th>39</th>\n",
       "      <td>ScanPackageToBag</td>\n",
       "      <td>66768</td>\n",
       "      <td>[Existence check]</td>\n",
       "      <td>[State/status conditions]</td>\n",
       "      <td></td>\n",
       "      <td>Integration</td>\n",
       "    </tr>\n",
       "    <tr>\n",
       "      <th>40</th>\n",
       "      <td>delayPickPackageReason</td>\n",
       "      <td>64957</td>\n",
       "      <td>[Existence check]</td>\n",
       "      <td>[Business rule conditions]</td>\n",
       "      <td></td>\n",
       "      <td>Transformation</td>\n",
       "    </tr>\n",
       "    <tr>\n",
       "      <th>41</th>\n",
       "      <td>scanBox</td>\n",
       "      <td>62809</td>\n",
       "      <td>[Existence check]</td>\n",
       "      <td>[State/status conditions, Resource/Capacity co...</td>\n",
       "      <td></td>\n",
       "      <td>Integration</td>\n",
       "    </tr>\n",
       "    <tr>\n",
       "      <th>43</th>\n",
       "      <td>confirmExportBox</td>\n",
       "      <td>56289</td>\n",
       "      <td>[Existence check, Data integrity]</td>\n",
       "      <td>[Timing conditions]</td>\n",
       "      <td></td>\n",
       "      <td>Integration</td>\n",
       "    </tr>\n",
       "    <tr>\n",
       "      <th>44</th>\n",
       "      <td>changeAttributeForSurplus</td>\n",
       "      <td>50070</td>\n",
       "      <td>[Existence check]</td>\n",
       "      <td>[Resource/Capacity conditions]</td>\n",
       "      <td></td>\n",
       "      <td>Integration</td>\n",
       "    </tr>\n",
       "    <tr>\n",
       "      <th>46</th>\n",
       "      <td>Refund_payment_qrBill</td>\n",
       "      <td>44172</td>\n",
       "      <td>[Existence check, Data integrity]</td>\n",
       "      <td>[State/status conditions]</td>\n",
       "      <td></td>\n",
       "      <td>Integration</td>\n",
       "    </tr>\n",
       "    <tr>\n",
       "      <th>48</th>\n",
       "      <td>feedbackReDelivery</td>\n",
       "      <td>40798</td>\n",
       "      <td>[Existence check, Timing conditions]</td>\n",
       "      <td>[Business rule conditions]</td>\n",
       "      <td></td>\n",
       "      <td>Integration</td>\n",
       "    </tr>\n",
       "    <tr>\n",
       "      <th>50</th>\n",
       "      <td>TakeAPhotoReturnRequest</td>\n",
       "      <td>37767</td>\n",
       "      <td>[Existence check]</td>\n",
       "      <td>[Resource/Capacity conditions, Authentication/...</td>\n",
       "      <td>AND</td>\n",
       "      <td>Integration</td>\n",
       "    </tr>\n",
       "    <tr>\n",
       "      <th>51</th>\n",
       "      <td>NVBCTakeAPhotoDelivery</td>\n",
       "      <td>32746</td>\n",
       "      <td>[Existence check]</td>\n",
       "      <td>[Resource/Capacity conditions, Authentication/...</td>\n",
       "      <td>AND</td>\n",
       "      <td>Integration</td>\n",
       "    </tr>\n",
       "    <tr>\n",
       "      <th>52</th>\n",
       "      <td>changePickCartByInstantDistribution</td>\n",
       "      <td>31828</td>\n",
       "      <td>[Existence check]</td>\n",
       "      <td>[Business rule conditions]</td>\n",
       "      <td></td>\n",
       "      <td>Integration</td>\n",
       "    </tr>\n",
       "    <tr>\n",
       "      <th>54</th>\n",
       "      <td>scanPackageCreateBagB2C</td>\n",
       "      <td>28710</td>\n",
       "      <td>[Existence check]</td>\n",
       "      <td>[State/status conditions]</td>\n",
       "      <td></td>\n",
       "      <td>Transformation</td>\n",
       "    </tr>\n",
       "    <tr>\n",
       "      <th>56</th>\n",
       "      <td>putPackages2TmpBag</td>\n",
       "      <td>27924</td>\n",
       "      <td>[Existence check]</td>\n",
       "      <td>[Resource/Capacity conditions]</td>\n",
       "      <td></td>\n",
       "      <td>Integration</td>\n",
       "    </tr>\n",
       "    <tr>\n",
       "      <th>57</th>\n",
       "      <td>confirmTmpPickedPackageStatusFromPO</td>\n",
       "      <td>26472</td>\n",
       "      <td>[Existence check]</td>\n",
       "      <td>[State/status conditions]</td>\n",
       "      <td></td>\n",
       "      <td>Integration</td>\n",
       "    </tr>\n",
       "    <tr>\n",
       "      <th>60</th>\n",
       "      <td>cfmDonePrepaymnet</td>\n",
       "      <td>22262</td>\n",
       "      <td>[Existence check]</td>\n",
       "      <td>[Business rule conditions]</td>\n",
       "      <td></td>\n",
       "      <td>Integration</td>\n",
       "    </tr>\n",
       "    <tr>\n",
       "      <th>62</th>\n",
       "      <td>confirmIssueHandovers</td>\n",
       "      <td>20399</td>\n",
       "      <td>[Existence check]</td>\n",
       "      <td>[State/status conditions]</td>\n",
       "      <td></td>\n",
       "      <td>Integration</td>\n",
       "    </tr>\n",
       "    <tr>\n",
       "      <th>63</th>\n",
       "      <td>checkPackageSealScanned</td>\n",
       "      <td>20112</td>\n",
       "      <td>[Data integrity, Existence check, Data format]</td>\n",
       "      <td>[Business rule conditions]</td>\n",
       "      <td>AND</td>\n",
       "      <td>Integration</td>\n",
       "    </tr>\n",
       "    <tr>\n",
       "      <th>64</th>\n",
       "      <td>saveRealImportStation</td>\n",
       "      <td>18618</td>\n",
       "      <td>[Existence check, Data integrity]</td>\n",
       "      <td>[State/status conditions]</td>\n",
       "      <td></td>\n",
       "      <td>Integration</td>\n",
       "    </tr>\n",
       "    <tr>\n",
       "      <th>65</th>\n",
       "      <td>changeCart</td>\n",
       "      <td>18518</td>\n",
       "      <td>[Existence check, Data integrity]</td>\n",
       "      <td>[State/status conditions]</td>\n",
       "      <td></td>\n",
       "      <td>Transformation</td>\n",
       "    </tr>\n",
       "    <tr>\n",
       "      <th>66</th>\n",
       "      <td>saveSealForSpecialPackage</td>\n",
       "      <td>15658</td>\n",
       "      <td>[Existence check, Data integrity]</td>\n",
       "      <td>[State/status conditions]</td>\n",
       "      <td></td>\n",
       "      <td>Transformation</td>\n",
       "    </tr>\n",
       "    <tr>\n",
       "      <th>67</th>\n",
       "      <td>changeCod</td>\n",
       "      <td>15637</td>\n",
       "      <td>[Existence check, Data integrity]</td>\n",
       "      <td>[State/status conditions]</td>\n",
       "      <td></td>\n",
       "      <td>Transformation</td>\n",
       "    </tr>\n",
       "    <tr>\n",
       "      <th>68</th>\n",
       "      <td>PrepaymentBill</td>\n",
       "      <td>15113</td>\n",
       "      <td>[Data format, Existence check]</td>\n",
       "      <td>[Business rule conditions]</td>\n",
       "      <td></td>\n",
       "      <td>Integration</td>\n",
       "    </tr>\n",
       "    <tr>\n",
       "      <th>69</th>\n",
       "      <td>ArrivePickingPoint</td>\n",
       "      <td>14807</td>\n",
       "      <td>[Existence check]</td>\n",
       "      <td>[State/status conditions]</td>\n",
       "      <td></td>\n",
       "      <td>Integration</td>\n",
       "    </tr>\n",
       "    <tr>\n",
       "      <th>70</th>\n",
       "      <td>NVBCConfirmImageWorkshift</td>\n",
       "      <td>14729</td>\n",
       "      <td>[Existence check]</td>\n",
       "      <td>[Resource/Capacity conditions, Authentication/...</td>\n",
       "      <td>AND</td>\n",
       "      <td>Integration</td>\n",
       "    </tr>\n",
       "    <tr>\n",
       "      <th>71</th>\n",
       "      <td>ImportPkgCheckIn</td>\n",
       "      <td>13267</td>\n",
       "      <td>[Existence check]</td>\n",
       "      <td>[State/status conditions]</td>\n",
       "      <td></td>\n",
       "      <td>Integration</td>\n",
       "    </tr>\n",
       "    <tr>\n",
       "      <th>72</th>\n",
       "      <td>PkBusCheckinPackage</td>\n",
       "      <td>12418</td>\n",
       "      <td>[Existence check]</td>\n",
       "      <td>[State/status conditions]</td>\n",
       "      <td></td>\n",
       "      <td>Integration</td>\n",
       "    </tr>\n",
       "    <tr>\n",
       "      <th>76</th>\n",
       "      <td>delayReturnPackageReason</td>\n",
       "      <td>11238</td>\n",
       "      <td>[Existence check]</td>\n",
       "      <td>[Business rule conditions]</td>\n",
       "      <td></td>\n",
       "      <td>Integration</td>\n",
       "    </tr>\n",
       "  </tbody>\n",
       "</table>\n",
       "</div>"
      ],
      "text/plain": [
       "                                 action  frequency  \\\n",
       "0                 distributorCfmDeliver    2032499   \n",
       "1                      assignCodPicking    1444438   \n",
       "2                    privateNotePackage    1430543   \n",
       "3                       putPackages2Bag     838847   \n",
       "4                            PickupBill     812609   \n",
       "7              assignBagWithIdentifyBag     723186   \n",
       "8                  verifySessionPackage     689592   \n",
       "9                     verifySessionBags     686533   \n",
       "10            smartScaleScanningPackage     682191   \n",
       "11                   TransferToBothBill     623364   \n",
       "12                           cfmTransit     612373   \n",
       "14              PickupCrossProvinceBill     499609   \n",
       "16                           ReturnBill     311508   \n",
       "17                           RefundBill     304210   \n",
       "21                  changePackageStatus     227671   \n",
       "22              distributorCfmReturning     225845   \n",
       "23                        printfPackage     200957   \n",
       "25           importStationByDistributer     148782   \n",
       "26                             putInBox     133658   \n",
       "27           changeCodForPackagesInCart     121545   \n",
       "30                          editPackage      95427   \n",
       "32                      cfmImportV4JobQ      83520   \n",
       "33             TransferToBothAcceptBill      79015   \n",
       "35                takeReturningPackages      77071   \n",
       "36                     updateDeliverCod      72915   \n",
       "37               takeDeliveringPackages      70258   \n",
       "38               updateTmpPickingStatus      67047   \n",
       "39                     ScanPackageToBag      66768   \n",
       "40               delayPickPackageReason      64957   \n",
       "41                              scanBox      62809   \n",
       "43                     confirmExportBox      56289   \n",
       "44            changeAttributeForSurplus      50070   \n",
       "46                Refund_payment_qrBill      44172   \n",
       "48                   feedbackReDelivery      40798   \n",
       "50              TakeAPhotoReturnRequest      37767   \n",
       "51               NVBCTakeAPhotoDelivery      32746   \n",
       "52  changePickCartByInstantDistribution      31828   \n",
       "54              scanPackageCreateBagB2C      28710   \n",
       "56                   putPackages2TmpBag      27924   \n",
       "57  confirmTmpPickedPackageStatusFromPO      26472   \n",
       "60                    cfmDonePrepaymnet      22262   \n",
       "62                confirmIssueHandovers      20399   \n",
       "63              checkPackageSealScanned      20112   \n",
       "64                saveRealImportStation      18618   \n",
       "65                           changeCart      18518   \n",
       "66            saveSealForSpecialPackage      15658   \n",
       "67                            changeCod      15637   \n",
       "68                       PrepaymentBill      15113   \n",
       "69                   ArrivePickingPoint      14807   \n",
       "70            NVBCConfirmImageWorkshift      14729   \n",
       "71                     ImportPkgCheckIn      13267   \n",
       "72                  PkBusCheckinPackage      12418   \n",
       "76             delayReturnPackageReason      11238   \n",
       "\n",
       "                                       type_condition  \\\n",
       "0                                   [Existence check]   \n",
       "1                                   [Existence check]   \n",
       "2                                   [Existence check]   \n",
       "3                                   [Existence check]   \n",
       "4                                   [Existence check]   \n",
       "7                                   [Existence check]   \n",
       "8                                   [Existence check]   \n",
       "9                       [Existence check, Data range]   \n",
       "10  [Data integrity, Data format, Data range, Exis...   \n",
       "11                                  [Existence check]   \n",
       "12                  [Existence check, Data integrity]   \n",
       "14                  [Existence check, Data integrity]   \n",
       "16                                  [Existence check]   \n",
       "17                                  [Existence check]   \n",
       "21                                  [Existence check]   \n",
       "22                                  [Existence check]   \n",
       "23                                  [Existence check]   \n",
       "25                                  [Existence check]   \n",
       "26                                  [Existence check]   \n",
       "27                                  [Existence check]   \n",
       "30                                  [Existence check]   \n",
       "32                                  [Existence check]   \n",
       "33                                  [Existence check]   \n",
       "35                                  [Existence check]   \n",
       "36                  [Existence check, Data integrity]   \n",
       "37                                  [Existence check]   \n",
       "38                                  [Existence check]   \n",
       "39                                  [Existence check]   \n",
       "40                                  [Existence check]   \n",
       "41                                  [Existence check]   \n",
       "43                  [Existence check, Data integrity]   \n",
       "44                                  [Existence check]   \n",
       "46                  [Existence check, Data integrity]   \n",
       "48               [Existence check, Timing conditions]   \n",
       "50                                  [Existence check]   \n",
       "51                                  [Existence check]   \n",
       "52                                  [Existence check]   \n",
       "54                                  [Existence check]   \n",
       "56                                  [Existence check]   \n",
       "57                                  [Existence check]   \n",
       "60                                  [Existence check]   \n",
       "62                                  [Existence check]   \n",
       "63     [Data integrity, Existence check, Data format]   \n",
       "64                  [Existence check, Data integrity]   \n",
       "65                  [Existence check, Data integrity]   \n",
       "66                  [Existence check, Data integrity]   \n",
       "67                  [Existence check, Data integrity]   \n",
       "68                     [Data format, Existence check]   \n",
       "69                                  [Existence check]   \n",
       "70                                  [Existence check]   \n",
       "71                                  [Existence check]   \n",
       "72                                  [Existence check]   \n",
       "76                                  [Existence check]   \n",
       "\n",
       "                                    content_condition composite_conditions  \\\n",
       "0                      [Resource/Capacity conditions]                        \n",
       "1                          [Business rule conditions]                        \n",
       "2                          [Business rule conditions]                        \n",
       "3                           [State/status conditions]                        \n",
       "4                      [Resource/Capacity conditions]                        \n",
       "7                           [State/status conditions]                        \n",
       "8                           [State/status conditions]                        \n",
       "9                           [State/status conditions]                        \n",
       "10                          [State/status conditions]                        \n",
       "11                         [Business rule conditions]                        \n",
       "12                          [State/status conditions]                        \n",
       "14                          [State/status conditions]                        \n",
       "16                         [Business rule conditions]                        \n",
       "17                         [Business rule conditions]                        \n",
       "21  [State/status conditions, Business rule condit...                        \n",
       "22          [Authentication/Authorization conditions]                        \n",
       "23                     [Resource/Capacity conditions]                        \n",
       "25                          [State/status conditions]                        \n",
       "26                          [State/status conditions]                        \n",
       "27                     [Resource/Capacity conditions]                        \n",
       "30                         [Business rule conditions]                        \n",
       "32                          [State/status conditions]                        \n",
       "33                         [Business rule conditions]                        \n",
       "35                          [State/status conditions]                        \n",
       "36                          [State/status conditions]                        \n",
       "37                     [Resource/Capacity conditions]                        \n",
       "38                          [State/status conditions]                        \n",
       "39                          [State/status conditions]                        \n",
       "40                         [Business rule conditions]                        \n",
       "41  [State/status conditions, Resource/Capacity co...                        \n",
       "43                                [Timing conditions]                        \n",
       "44                     [Resource/Capacity conditions]                        \n",
       "46                          [State/status conditions]                        \n",
       "48                         [Business rule conditions]                        \n",
       "50  [Resource/Capacity conditions, Authentication/...                  AND   \n",
       "51  [Resource/Capacity conditions, Authentication/...                  AND   \n",
       "52                         [Business rule conditions]                        \n",
       "54                          [State/status conditions]                        \n",
       "56                     [Resource/Capacity conditions]                        \n",
       "57                          [State/status conditions]                        \n",
       "60                         [Business rule conditions]                        \n",
       "62                          [State/status conditions]                        \n",
       "63                         [Business rule conditions]                  AND   \n",
       "64                          [State/status conditions]                        \n",
       "65                          [State/status conditions]                        \n",
       "66                          [State/status conditions]                        \n",
       "67                          [State/status conditions]                        \n",
       "68                         [Business rule conditions]                        \n",
       "69                          [State/status conditions]                        \n",
       "70  [Resource/Capacity conditions, Authentication/...                  AND   \n",
       "71                          [State/status conditions]                        \n",
       "72                          [State/status conditions]                        \n",
       "76                         [Business rule conditions]                        \n",
       "\n",
       "       type_action  \n",
       "0      Integration  \n",
       "1      Integration  \n",
       "2   Transformation  \n",
       "3   Transformation  \n",
       "4      Integration  \n",
       "7      Integration  \n",
       "8      Integration  \n",
       "9      Integration  \n",
       "10     Integration  \n",
       "11  Transformation  \n",
       "12     Integration  \n",
       "14     Integration  \n",
       "16     Integration  \n",
       "17     Integration  \n",
       "21     Integration  \n",
       "22     Integration  \n",
       "23     Integration  \n",
       "25     Integration  \n",
       "26  Transformation  \n",
       "27  Transformation  \n",
       "30  Transformation  \n",
       "32     Integration  \n",
       "33  Transformation  \n",
       "35     Integration  \n",
       "36  Transformation  \n",
       "37     Integration  \n",
       "38     Integration  \n",
       "39     Integration  \n",
       "40  Transformation  \n",
       "41     Integration  \n",
       "43     Integration  \n",
       "44     Integration  \n",
       "46     Integration  \n",
       "48     Integration  \n",
       "50     Integration  \n",
       "51     Integration  \n",
       "52     Integration  \n",
       "54  Transformation  \n",
       "56     Integration  \n",
       "57     Integration  \n",
       "60     Integration  \n",
       "62     Integration  \n",
       "63     Integration  \n",
       "64     Integration  \n",
       "65  Transformation  \n",
       "66  Transformation  \n",
       "67  Transformation  \n",
       "68     Integration  \n",
       "69     Integration  \n",
       "70     Integration  \n",
       "71     Integration  \n",
       "72     Integration  \n",
       "76     Integration  "
      ]
     },
     "execution_count": 82,
     "metadata": {},
     "output_type": "execute_result"
    }
   ],
   "source": [
    "x= auto_candidates[auto_candidates[\"type_condition\"].map(lambda x: 'Existence check' in str(x))]\n",
    "x\n"
   ]
  },
  {
   "cell_type": "code",
   "execution_count": 81,
   "id": "53aef9d3",
   "metadata": {},
   "outputs": [
    {
     "data": {
      "application/vnd.microsoft.datawrangler.viewer.v0+json": {
       "columns": [
        {
         "name": "composite_conditions",
         "rawType": "object",
         "type": "string"
        },
        {
         "name": "count",
         "rawType": "int64",
         "type": "integer"
        }
       ],
       "ref": "f7f4f086-7679-45ad-be28-0cfa19e1cc1f",
       "rows": [
        [
         "",
         "72"
        ],
        [
         "AND",
         "6"
        ]
       ],
       "shape": {
        "columns": 1,
        "rows": 2
       }
      },
      "text/plain": [
       "composite_conditions\n",
       "       72\n",
       "AND     6\n",
       "Name: count, dtype: int64"
      ]
     },
     "execution_count": 81,
     "metadata": {},
     "output_type": "execute_result"
    }
   ],
   "source": [
    "auto_candidates['composite_conditions'].value_counts()\n"
   ]
  },
  {
   "cell_type": "code",
   "execution_count": 83,
   "id": "27e4cdb4",
   "metadata": {},
   "outputs": [
    {
     "data": {
      "text/plain": [
       "0.07692307692307693"
      ]
     },
     "execution_count": 83,
     "metadata": {},
     "output_type": "execute_result"
    }
   ],
   "source": [
    "6/78"
   ]
  },
  {
   "cell_type": "code",
   "execution_count": 92,
   "id": "9bb50a0e",
   "metadata": {},
   "outputs": [],
   "source": [
    "auto_candidates = data_final[( data_final['frequency'] < 1000)]\n"
   ]
  },
  {
   "cell_type": "code",
   "execution_count": 93,
   "id": "58b13004",
   "metadata": {},
   "outputs": [
    {
     "data": {
      "application/vnd.microsoft.datawrangler.viewer.v0+json": {
       "columns": [
        {
         "name": "index",
         "rawType": "int64",
         "type": "integer"
        },
        {
         "name": "action",
         "rawType": "object",
         "type": "unknown"
        },
        {
         "name": "frequency",
         "rawType": "int64",
         "type": "integer"
        },
        {
         "name": "type_condition",
         "rawType": "object",
         "type": "unknown"
        },
        {
         "name": "content_condition",
         "rawType": "object",
         "type": "unknown"
        },
        {
         "name": "composite_conditions",
         "rawType": "object",
         "type": "unknown"
        },
        {
         "name": "type_action",
         "rawType": "object",
         "type": "unknown"
        }
       ],
       "ref": "be357eed-2154-4978-b30f-562836b0b9e4",
       "rows": [
        [
         "154",
         "TakeAPhotoWeightChange",
         "973",
         "['Data integrity']",
         "['State/status conditions']",
         "",
         "Integration"
        ],
        [
         "155",
         "changeReturnAddressFeedback",
         "935",
         "['Existence check']",
         "['Business rule conditions']",
         "",
         "Integration"
        ],
        [
         "156",
         "updateStatusMissingPackage",
         "929",
         "['Data integrity']",
         "['State/status conditions', 'Authentication/Authorization conditions']",
         "",
         "Transformation"
        ],
        [
         "157",
         "updateTmpDeliveredPostOffice",
         "763",
         "['Data integrity']",
         "['State/status conditions']",
         "",
         "Transformation"
        ],
        [
         "158",
         "confirmTmpDeliveredPostOffice",
         "763",
         "['Data integrity']",
         "['State/status conditions']",
         "",
         "Transformation"
        ],
        [
         "159",
         "approvedPackage",
         "749",
         "['Data integrity']",
         "['State/status conditions']",
         "",
         "Transformation"
        ],
        [
         "160",
         "TakeAPhotoDeliveryPhotos",
         "734",
         "['Data format', 'Data integrity']",
         "['Resource/Capacity conditions']",
         "",
         "Integration"
        ],
        [
         "161",
         "editPackageUpdateMoney",
         "647",
         "['Data integrity', 'Data format']",
         "['Business rule conditions']",
         "",
         "Transformation"
        ],
        [
         "162",
         "updateWeightFromFastBag",
         "646",
         "['Data integrity', 'Data range']",
         "['State/status conditions']",
         "",
         "Transformation"
        ],
        [
         "163",
         "TakeAPhotoPicked",
         "605",
         "['Data format', 'Data integrity']",
         "['Resource/Capacity conditions']",
         "",
         "Integration"
        ],
        [
         "164",
         null,
         "536",
         null,
         null,
         null,
         null
        ],
        [
         "165",
         "changeCurrentStation",
         "535",
         "['Existence check']",
         "['Resource/Capacity conditions']",
         "",
         "Integration"
        ],
        [
         "166",
         "updateShipMoney",
         "520",
         "['Data integrity', 'Data range']",
         "['State/status conditions']",
         "",
         "Transformation"
        ],
        [
         "167",
         "cbsop",
         "457",
         "['Existence check']",
         "['State/status conditions', 'Business rule conditions']",
         "",
         "Integration"
        ],
        [
         "168",
         "updatePickCod",
         "446",
         "['Existence check', 'Data integrity']",
         "['Resource/Capacity conditions']",
         "",
         "Integration"
        ],
        [
         "169",
         "deletePackage",
         "444",
         "['Existence check']",
         "['State/status conditions']",
         "",
         "Integration"
        ],
        [
         "170",
         "updateUrgeDeliverPackage",
         "442",
         "['Data integrity']",
         "['State/status conditions']",
         "",
         "Integration"
        ],
        [
         "171",
         "TakeAPhotoSignatureTiktokPackage",
         "385",
         "['Existence check']",
         "['Business rule conditions']",
         "",
         "Integration"
        ],
        [
         "172",
         "changePickLastAddress",
         "382",
         "['Data format', 'Data integrity']",
         "['Authentication/Authorization conditions']",
         "AND",
         "Transformation"
        ],
        [
         "173",
         "customerSigningDelivery",
         "374",
         "['Existence check', 'Data integrity']",
         "['State/status conditions']",
         "",
         "Integration"
        ],
        [
         "174",
         "changePickFirstAddress",
         "362",
         "['Data integrity', 'Data format', 'Existence check']",
         "['Business rule conditions']",
         "",
         "Transformation"
        ],
        [
         "175",
         "removeScannedBox",
         "343",
         "['Existence check']",
         "['Resource/Capacity conditions']",
         "",
         "Transformation"
        ],
        [
         "176",
         "TakeAPhotoConfirmHandOverHvcPackage",
         "319",
         "['Data integrity']",
         "['State/status conditions']",
         "",
         "Integration"
        ],
        [
         "177",
         "updatePickAddressCart",
         "312",
         "['Data integrity']",
         "['Business rule conditions']",
         "",
         "Transformation"
        ],
        [
         "178",
         "confirmHandOverPackages",
         "308",
         "['Existence check']",
         "['State/status conditions']",
         "",
         "Integration"
        ],
        [
         "179",
         "changeDstStation",
         "284",
         "['Existence check', 'Data integrity']",
         "['Business rule conditions']",
         "AND",
         "Transformation"
        ],
        [
         "180",
         "updateTmpDeliveredPackageStatuses",
         "258",
         "['Data integrity', 'Data range']",
         "['State/status conditions']",
         "",
         "Transformation"
        ],
        [
         "181",
         "changeAliasPackage",
         "254",
         "['Data integrity', 'Data format']",
         "['Business rule conditions']",
         "",
         "Transformation"
        ],
        [
         "182",
         "exportBigSizePackages",
         "229",
         "['Existence check', 'Data integrity']",
         "['State/status conditions', 'Resource/Capacity conditions']",
         "",
         "Integration"
        ],
        [
         "183",
         "ReportPackageNotInRc",
         "225",
         "['Existence check']",
         "['State/status conditions']",
         "",
         "Integration"
        ],
        [
         "184",
         "notePackage",
         "196",
         "['Data integrity']",
         "['State/status conditions']",
         "",
         "Integration"
        ],
        [
         "185",
         "updateReturnDebtMoney",
         "192",
         "['Existence check', 'Data integrity', 'Data range']",
         "['State/status conditions']",
         "",
         "Transformation"
        ],
        [
         "186",
         "updateTmpPickedPackageStatuses",
         "184",
         "['Existence check']",
         "['State/status conditions']",
         "",
         "Integration"
        ],
        [
         "187",
         "cancelExportDeliver",
         "184",
         "['Existence check']",
         "['Business rule conditions']",
         "",
         "Integration"
        ],
        [
         "188",
         "savePackageNote",
         "184",
         "['Data integrity']",
         "['State/status conditions']",
         "",
         "Integration"
        ],
        [
         "189",
         "cfmTransitD4h",
         "176",
         "['Existence check', 'Data integrity']",
         "['Resource/Capacity conditions']",
         "",
         "Integration"
        ],
        [
         "190",
         "unScanPackageCreateBagB2C",
         "160",
         "['Existence check', 'Data integrity']",
         "['State/status conditions']",
         "",
         "Transformation"
        ],
        [
         "191",
         "UpdatePropertyPackage",
         "160",
         "['Data integrity']",
         "['Business rule conditions']",
         "",
         "Transformation"
        ],
        [
         "192",
         "TakeAPhotoCallLog",
         "156",
         "['Data format', 'Data integrity']",
         "['Resource/Capacity conditions']",
         "",
         "Integration"
        ],
        [
         "193",
         "changeTypeFromExpressToBBS",
         "146",
         "['Data integrity']",
         "['Business rule conditions']",
         "",
         "Transformation"
        ],
        [
         "194",
         "updateWeightFromExpressToBBS",
         "146",
         "['Data integrity', 'Data format']",
         "['Resource/Capacity conditions']",
         "",
         "Transformation"
        ],
        [
         "195",
         "updatePickMoney",
         "140",
         "['Data integrity', 'Data range']",
         "['State/status conditions']",
         "",
         "Transformation"
        ],
        [
         "196",
         "BlurredBarcode",
         "139",
         "['Data integrity']",
         "['Data format']",
         "",
         "Integration"
        ],
        [
         "197",
         "updateShipMoneyFromExpressToBBS",
         "138",
         "['Data range', 'Data format']",
         "['Business rule conditions']",
         "AND",
         "Transformation"
        ],
        [
         "198",
         "updateSrcStationByTmpPickedPackageStatuses",
         "118",
         "['Existence check', 'Data integrity']",
         "['State/status conditions']",
         "",
         "Transformation"
        ],
        [
         "199",
         "updateAddressCart",
         "105",
         "['Data integrity']",
         "['Authentication/Authorization conditions']",
         "",
         "Transformation"
        ],
        [
         "200",
         "autoAssignPickCart",
         "87",
         "['Existence check']",
         "['Resource/Capacity conditions']",
         "",
         "Integration"
        ],
        [
         "201",
         "savePickPackageLogQ",
         "79",
         "['Existence check', 'Timing conditions']",
         "['Resource/Capacity conditions']",
         "AND",
         "Integration"
        ],
        [
         "202",
         "putOutBox",
         "76",
         "['Existence check']",
         "['Resource/Capacity conditions']",
         "",
         "Integration"
        ],
        [
         "203",
         "updateWeightPackage",
         "76",
         "['Data integrity', 'Data format']",
         "['Resource/Capacity conditions']",
         "",
         "Transformation"
        ]
       ],
       "shape": {
        "columns": 6,
        "rows": 114
       }
      },
      "text/html": [
       "<div>\n",
       "<style scoped>\n",
       "    .dataframe tbody tr th:only-of-type {\n",
       "        vertical-align: middle;\n",
       "    }\n",
       "\n",
       "    .dataframe tbody tr th {\n",
       "        vertical-align: top;\n",
       "    }\n",
       "\n",
       "    .dataframe thead th {\n",
       "        text-align: right;\n",
       "    }\n",
       "</style>\n",
       "<table border=\"1\" class=\"dataframe\">\n",
       "  <thead>\n",
       "    <tr style=\"text-align: right;\">\n",
       "      <th></th>\n",
       "      <th>action</th>\n",
       "      <th>frequency</th>\n",
       "      <th>type_condition</th>\n",
       "      <th>content_condition</th>\n",
       "      <th>composite_conditions</th>\n",
       "      <th>type_action</th>\n",
       "    </tr>\n",
       "  </thead>\n",
       "  <tbody>\n",
       "    <tr>\n",
       "      <th>154</th>\n",
       "      <td>TakeAPhotoWeightChange</td>\n",
       "      <td>973</td>\n",
       "      <td>[Data integrity]</td>\n",
       "      <td>[State/status conditions]</td>\n",
       "      <td></td>\n",
       "      <td>Integration</td>\n",
       "    </tr>\n",
       "    <tr>\n",
       "      <th>155</th>\n",
       "      <td>changeReturnAddressFeedback</td>\n",
       "      <td>935</td>\n",
       "      <td>[Existence check]</td>\n",
       "      <td>[Business rule conditions]</td>\n",
       "      <td></td>\n",
       "      <td>Integration</td>\n",
       "    </tr>\n",
       "    <tr>\n",
       "      <th>156</th>\n",
       "      <td>updateStatusMissingPackage</td>\n",
       "      <td>929</td>\n",
       "      <td>[Data integrity]</td>\n",
       "      <td>[State/status conditions, Authentication/Autho...</td>\n",
       "      <td></td>\n",
       "      <td>Transformation</td>\n",
       "    </tr>\n",
       "    <tr>\n",
       "      <th>157</th>\n",
       "      <td>updateTmpDeliveredPostOffice</td>\n",
       "      <td>763</td>\n",
       "      <td>[Data integrity]</td>\n",
       "      <td>[State/status conditions]</td>\n",
       "      <td></td>\n",
       "      <td>Transformation</td>\n",
       "    </tr>\n",
       "    <tr>\n",
       "      <th>158</th>\n",
       "      <td>confirmTmpDeliveredPostOffice</td>\n",
       "      <td>763</td>\n",
       "      <td>[Data integrity]</td>\n",
       "      <td>[State/status conditions]</td>\n",
       "      <td></td>\n",
       "      <td>Transformation</td>\n",
       "    </tr>\n",
       "    <tr>\n",
       "      <th>...</th>\n",
       "      <td>...</td>\n",
       "      <td>...</td>\n",
       "      <td>...</td>\n",
       "      <td>...</td>\n",
       "      <td>...</td>\n",
       "      <td>...</td>\n",
       "    </tr>\n",
       "    <tr>\n",
       "      <th>263</th>\n",
       "      <td>returnPackageAtStation</td>\n",
       "      <td>2</td>\n",
       "      <td>[Existence check]</td>\n",
       "      <td>[Resource/Capacity conditions]</td>\n",
       "      <td></td>\n",
       "      <td>Integration</td>\n",
       "    </tr>\n",
       "    <tr>\n",
       "      <th>264</th>\n",
       "      <td>putPackages2QsBag</td>\n",
       "      <td>2</td>\n",
       "      <td>[Existence check]</td>\n",
       "      <td>[Resource/Capacity conditions]</td>\n",
       "      <td></td>\n",
       "      <td>Integration</td>\n",
       "    </tr>\n",
       "    <tr>\n",
       "      <th>265</th>\n",
       "      <td>changePackagesTransport</td>\n",
       "      <td>1</td>\n",
       "      <td>[Data range, Data format]</td>\n",
       "      <td>[Business rule conditions]</td>\n",
       "      <td>AND</td>\n",
       "      <td>Transformation</td>\n",
       "    </tr>\n",
       "    <tr>\n",
       "      <th>266</th>\n",
       "      <td>exportBigSizeReturnPackages</td>\n",
       "      <td>1</td>\n",
       "      <td>[Existence check]</td>\n",
       "      <td>[State/status conditions]</td>\n",
       "      <td></td>\n",
       "      <td>Integration</td>\n",
       "    </tr>\n",
       "    <tr>\n",
       "      <th>267</th>\n",
       "      <td>cancelNewPackage</td>\n",
       "      <td>1</td>\n",
       "      <td>[Existence check]</td>\n",
       "      <td>[Business rule conditions]</td>\n",
       "      <td></td>\n",
       "      <td>Transformation</td>\n",
       "    </tr>\n",
       "  </tbody>\n",
       "</table>\n",
       "<p>114 rows × 6 columns</p>\n",
       "</div>"
      ],
      "text/plain": [
       "                            action  frequency             type_condition  \\\n",
       "154         TakeAPhotoWeightChange        973           [Data integrity]   \n",
       "155    changeReturnAddressFeedback        935          [Existence check]   \n",
       "156     updateStatusMissingPackage        929           [Data integrity]   \n",
       "157   updateTmpDeliveredPostOffice        763           [Data integrity]   \n",
       "158  confirmTmpDeliveredPostOffice        763           [Data integrity]   \n",
       "..                             ...        ...                        ...   \n",
       "263         returnPackageAtStation          2          [Existence check]   \n",
       "264              putPackages2QsBag          2          [Existence check]   \n",
       "265        changePackagesTransport          1  [Data range, Data format]   \n",
       "266    exportBigSizeReturnPackages          1          [Existence check]   \n",
       "267               cancelNewPackage          1          [Existence check]   \n",
       "\n",
       "                                     content_condition composite_conditions  \\\n",
       "154                          [State/status conditions]                        \n",
       "155                         [Business rule conditions]                        \n",
       "156  [State/status conditions, Authentication/Autho...                        \n",
       "157                          [State/status conditions]                        \n",
       "158                          [State/status conditions]                        \n",
       "..                                                 ...                  ...   \n",
       "263                     [Resource/Capacity conditions]                        \n",
       "264                     [Resource/Capacity conditions]                        \n",
       "265                         [Business rule conditions]                  AND   \n",
       "266                          [State/status conditions]                        \n",
       "267                         [Business rule conditions]                        \n",
       "\n",
       "        type_action  \n",
       "154     Integration  \n",
       "155     Integration  \n",
       "156  Transformation  \n",
       "157  Transformation  \n",
       "158  Transformation  \n",
       "..              ...  \n",
       "263     Integration  \n",
       "264     Integration  \n",
       "265  Transformation  \n",
       "266     Integration  \n",
       "267  Transformation  \n",
       "\n",
       "[114 rows x 6 columns]"
      ]
     },
     "execution_count": 93,
     "metadata": {},
     "output_type": "execute_result"
    }
   ],
   "source": [
    "auto_candidates"
   ]
  },
  {
   "cell_type": "code",
   "execution_count": 94,
   "id": "16b79619",
   "metadata": {},
   "outputs": [
    {
     "data": {
      "application/vnd.microsoft.datawrangler.viewer.v0+json": {
       "columns": [
        {
         "name": "type_action",
         "rawType": "object",
         "type": "string"
        },
        {
         "name": "count",
         "rawType": "int64",
         "type": "integer"
        }
       ],
       "ref": "383fd3c4-12ad-45ae-9f10-d7787a2caab7",
       "rows": [
        [
         "Transformation",
         "58"
        ],
        [
         "Integration",
         "53"
        ],
        [
         "Logic",
         "2"
        ]
       ],
       "shape": {
        "columns": 1,
        "rows": 3
       }
      },
      "text/plain": [
       "type_action\n",
       "Transformation    58\n",
       "Integration       53\n",
       "Logic              2\n",
       "Name: count, dtype: int64"
      ]
     },
     "execution_count": 94,
     "metadata": {},
     "output_type": "execute_result"
    }
   ],
   "source": [
    "auto_candidates[\"type_action\"].value_counts()\n"
   ]
  },
  {
   "cell_type": "code",
   "execution_count": null,
   "id": "43af2fcf",
   "metadata": {},
   "outputs": [
    {
     "data": {
      "application/vnd.microsoft.datawrangler.viewer.v0+json": {
       "columns": [
        {
         "name": "type_condition",
         "rawType": "object",
         "type": "unknown"
        },
        {
         "name": "count",
         "rawType": "int64",
         "type": "integer"
        }
       ],
       "ref": "28dbcc22-1bd9-47eb-8b40-106c44142a1f",
       "rows": [
        [
         "['Existence check']",
         "33"
        ],
        [
         "['Data integrity']",
         "21"
        ],
        [
         "['Existence check', 'Data integrity']",
         "16"
        ],
        [
         "['Data integrity', 'Data format']",
         "10"
        ],
        [
         "['Data integrity', 'Data range']",
         "6"
        ],
        [
         "['Data format', 'Data integrity']",
         "5"
        ],
        [
         "['State/status conditions']",
         "5"
        ],
        [
         "['Data integrity', 'Data format', 'Existence check']",
         "4"
        ],
        [
         "['Existence check', 'Data format']",
         "2"
        ],
        [
         "['Existence check', 'Timing conditions']",
         "2"
        ],
        [
         "['Data range', 'Data format']",
         "2"
        ],
        [
         "['Existence check', 'Data integrity', 'Data range']",
         "1"
        ],
        [
         "['Data format', 'Data range']",
         "1"
        ],
        [
         "['Existence check', 'Data integrity', 'Authentication/Authorization conditions']",
         "1"
        ],
        [
         "['Data integrity', 'Timing conditions']",
         "1"
        ],
        [
         "['Timing conditions']",
         "1"
        ],
        [
         "['Data range', 'Existence check']",
         "1"
        ],
        [
         "['Existence check', 'Data integrity', 'Timing conditions']",
         "1"
        ]
       ],
       "shape": {
        "columns": 1,
        "rows": 18
       }
      },
      "text/plain": [
       "type_condition\n",
       "[Existence check]                                                             33\n",
       "[Data integrity]                                                              21\n",
       "[Existence check, Data integrity]                                             16\n",
       "[Data integrity, Data format]                                                 10\n",
       "[Data integrity, Data range]                                                   6\n",
       "[Data format, Data integrity]                                                  5\n",
       "[State/status conditions]                                                      5\n",
       "[Data integrity, Data format, Existence check]                                 4\n",
       "[Existence check, Data format]                                                 2\n",
       "[Existence check, Timing conditions]                                           2\n",
       "[Data range, Data format]                                                      2\n",
       "[Existence check, Data integrity, Data range]                                  1\n",
       "[Data format, Data range]                                                      1\n",
       "[Existence check, Data integrity, Authentication/Authorization conditions]     1\n",
       "[Data integrity, Timing conditions]                                            1\n",
       "[Timing conditions]                                                            1\n",
       "[Data range, Existence check]                                                  1\n",
       "[Existence check, Data integrity, Timing conditions]                           1\n",
       "Name: count, dtype: int64"
      ]
     },
     "execution_count": 96,
     "metadata": {},
     "output_type": "execute_result"
    }
   ],
   "source": [
    "auto_candidates[\"type_condition\"].value_counts()"
   ]
  },
  {
   "cell_type": "code",
   "execution_count": 99,
   "id": "efb116a5",
   "metadata": {},
   "outputs": [
    {
     "data": {
      "application/vnd.microsoft.datawrangler.viewer.v0+json": {
       "columns": [
        {
         "name": "index",
         "rawType": "int64",
         "type": "integer"
        },
        {
         "name": "action",
         "rawType": "object",
         "type": "string"
        },
        {
         "name": "frequency",
         "rawType": "int64",
         "type": "integer"
        },
        {
         "name": "type_condition",
         "rawType": "object",
         "type": "unknown"
        },
        {
         "name": "content_condition",
         "rawType": "object",
         "type": "unknown"
        },
        {
         "name": "composite_conditions",
         "rawType": "object",
         "type": "string"
        },
        {
         "name": "type_action",
         "rawType": "object",
         "type": "string"
        }
       ],
       "ref": "24581950-45c6-4ccf-a537-a4b1c6383d4e",
       "rows": [
        [
         "154",
         "TakeAPhotoWeightChange",
         "973",
         "['Data integrity']",
         "['State/status conditions']",
         "",
         "Integration"
        ],
        [
         "156",
         "updateStatusMissingPackage",
         "929",
         "['Data integrity']",
         "['State/status conditions', 'Authentication/Authorization conditions']",
         "",
         "Transformation"
        ],
        [
         "157",
         "updateTmpDeliveredPostOffice",
         "763",
         "['Data integrity']",
         "['State/status conditions']",
         "",
         "Transformation"
        ],
        [
         "158",
         "confirmTmpDeliveredPostOffice",
         "763",
         "['Data integrity']",
         "['State/status conditions']",
         "",
         "Transformation"
        ],
        [
         "159",
         "approvedPackage",
         "749",
         "['Data integrity']",
         "['State/status conditions']",
         "",
         "Transformation"
        ],
        [
         "160",
         "TakeAPhotoDeliveryPhotos",
         "734",
         "['Data format', 'Data integrity']",
         "['Resource/Capacity conditions']",
         "",
         "Integration"
        ],
        [
         "161",
         "editPackageUpdateMoney",
         "647",
         "['Data integrity', 'Data format']",
         "['Business rule conditions']",
         "",
         "Transformation"
        ],
        [
         "162",
         "updateWeightFromFastBag",
         "646",
         "['Data integrity', 'Data range']",
         "['State/status conditions']",
         "",
         "Transformation"
        ],
        [
         "163",
         "TakeAPhotoPicked",
         "605",
         "['Data format', 'Data integrity']",
         "['Resource/Capacity conditions']",
         "",
         "Integration"
        ],
        [
         "166",
         "updateShipMoney",
         "520",
         "['Data integrity', 'Data range']",
         "['State/status conditions']",
         "",
         "Transformation"
        ],
        [
         "168",
         "updatePickCod",
         "446",
         "['Existence check', 'Data integrity']",
         "['Resource/Capacity conditions']",
         "",
         "Integration"
        ],
        [
         "170",
         "updateUrgeDeliverPackage",
         "442",
         "['Data integrity']",
         "['State/status conditions']",
         "",
         "Integration"
        ],
        [
         "172",
         "changePickLastAddress",
         "382",
         "['Data format', 'Data integrity']",
         "['Authentication/Authorization conditions']",
         "AND",
         "Transformation"
        ],
        [
         "173",
         "customerSigningDelivery",
         "374",
         "['Existence check', 'Data integrity']",
         "['State/status conditions']",
         "",
         "Integration"
        ],
        [
         "174",
         "changePickFirstAddress",
         "362",
         "['Data integrity', 'Data format', 'Existence check']",
         "['Business rule conditions']",
         "",
         "Transformation"
        ],
        [
         "176",
         "TakeAPhotoConfirmHandOverHvcPackage",
         "319",
         "['Data integrity']",
         "['State/status conditions']",
         "",
         "Integration"
        ],
        [
         "177",
         "updatePickAddressCart",
         "312",
         "['Data integrity']",
         "['Business rule conditions']",
         "",
         "Transformation"
        ],
        [
         "179",
         "changeDstStation",
         "284",
         "['Existence check', 'Data integrity']",
         "['Business rule conditions']",
         "AND",
         "Transformation"
        ],
        [
         "180",
         "updateTmpDeliveredPackageStatuses",
         "258",
         "['Data integrity', 'Data range']",
         "['State/status conditions']",
         "",
         "Transformation"
        ],
        [
         "181",
         "changeAliasPackage",
         "254",
         "['Data integrity', 'Data format']",
         "['Business rule conditions']",
         "",
         "Transformation"
        ],
        [
         "182",
         "exportBigSizePackages",
         "229",
         "['Existence check', 'Data integrity']",
         "['State/status conditions', 'Resource/Capacity conditions']",
         "",
         "Integration"
        ],
        [
         "184",
         "notePackage",
         "196",
         "['Data integrity']",
         "['State/status conditions']",
         "",
         "Integration"
        ],
        [
         "185",
         "updateReturnDebtMoney",
         "192",
         "['Existence check', 'Data integrity', 'Data range']",
         "['State/status conditions']",
         "",
         "Transformation"
        ],
        [
         "188",
         "savePackageNote",
         "184",
         "['Data integrity']",
         "['State/status conditions']",
         "",
         "Integration"
        ],
        [
         "189",
         "cfmTransitD4h",
         "176",
         "['Existence check', 'Data integrity']",
         "['Resource/Capacity conditions']",
         "",
         "Integration"
        ],
        [
         "190",
         "unScanPackageCreateBagB2C",
         "160",
         "['Existence check', 'Data integrity']",
         "['State/status conditions']",
         "",
         "Transformation"
        ],
        [
         "191",
         "UpdatePropertyPackage",
         "160",
         "['Data integrity']",
         "['Business rule conditions']",
         "",
         "Transformation"
        ],
        [
         "192",
         "TakeAPhotoCallLog",
         "156",
         "['Data format', 'Data integrity']",
         "['Resource/Capacity conditions']",
         "",
         "Integration"
        ],
        [
         "193",
         "changeTypeFromExpressToBBS",
         "146",
         "['Data integrity']",
         "['Business rule conditions']",
         "",
         "Transformation"
        ],
        [
         "194",
         "updateWeightFromExpressToBBS",
         "146",
         "['Data integrity', 'Data format']",
         "['Resource/Capacity conditions']",
         "",
         "Transformation"
        ],
        [
         "195",
         "updatePickMoney",
         "140",
         "['Data integrity', 'Data range']",
         "['State/status conditions']",
         "",
         "Transformation"
        ],
        [
         "196",
         "BlurredBarcode",
         "139",
         "['Data integrity']",
         "['Data format']",
         "",
         "Integration"
        ],
        [
         "198",
         "updateSrcStationByTmpPickedPackageStatuses",
         "118",
         "['Existence check', 'Data integrity']",
         "['State/status conditions']",
         "",
         "Transformation"
        ],
        [
         "199",
         "updateAddressCart",
         "105",
         "['Data integrity']",
         "['Authentication/Authorization conditions']",
         "",
         "Transformation"
        ],
        [
         "203",
         "updateWeightPackage",
         "76",
         "['Data integrity', 'Data format']",
         "['Resource/Capacity conditions']",
         "",
         "Transformation"
        ],
        [
         "205",
         "CustomerComponent::changeAddress",
         "73",
         "['Data integrity', 'Data format']",
         "['Business rule conditions']",
         "",
         "Transformation"
        ],
        [
         "207",
         "updateShipMoneyPackage",
         "68",
         "['Data integrity', 'Data range']",
         "['Business rule conditions']",
         "",
         "Transformation"
        ],
        [
         "208",
         "confirmTmpNotReturnedPackageStatus",
         "66",
         "['Data integrity']",
         "['State/status conditions']",
         "",
         "Transformation"
        ],
        [
         "216",
         "TakeAPhotoCheckBagReturnStation",
         "49",
         "['Data integrity']",
         "['State/status conditions']",
         "",
         "Integration"
        ],
        [
         "219",
         "customerCommitmentLetter",
         "44",
         "['Existence check', 'Data integrity']",
         "['State/status conditions']",
         "",
         "Integration"
        ],
        [
         "220",
         "assignStationDelivering",
         "44",
         "['Existence check', 'Data integrity']",
         "['State/status conditions']",
         "",
         "Transformation"
        ],
        [
         "221",
         "revertPackage",
         "42",
         "['Data integrity']",
         "['State/status conditions']",
         "",
         "Transformation"
        ],
        [
         "222",
         "autoDeleteOrderBoxTemp",
         "41",
         "['Existence check', 'Data integrity']",
         "['State/status conditions']",
         "",
         "Logic"
        ],
        [
         "224",
         "updateDeliverAddressCart",
         "39",
         "['Data integrity', 'Data format']",
         "['Resource/Capacity conditions']",
         "",
         "Transformation"
        ],
        [
         "225",
         "changeCustomerTel",
         "38",
         "['Data format', 'Data integrity']",
         "['Authentication/Authorization conditions']",
         "AND",
         "Transformation"
        ],
        [
         "226",
         "changeReturnStation",
         "37",
         "['Existence check', 'Data integrity']",
         "['State/status conditions']",
         "",
         "Transformation"
        ],
        [
         "228",
         "shopRequestChangePickAddress",
         "37",
         "['Data integrity', 'Data format', 'Existence check']",
         "['Business rule conditions']",
         "",
         "Integration"
        ],
        [
         "229",
         "changeReturnAddress",
         "37",
         "['Data integrity', 'Data format', 'Existence check']",
         "['Business rule conditions']",
         "",
         "Transformation"
        ],
        [
         "230",
         "exportBigSizePickingPackages",
         "28",
         "['Existence check', 'Data integrity']",
         "['State/status conditions', 'Resource/Capacity conditions']",
         "",
         "Integration"
        ],
        [
         "233",
         "editHamletAddressPackage",
         "26",
         "['Data integrity', 'Data format']",
         "['Business rule conditions']",
         "",
         "Transformation"
        ]
       ],
       "shape": {
        "columns": 6,
        "rows": 66
       }
      },
      "text/html": [
       "<div>\n",
       "<style scoped>\n",
       "    .dataframe tbody tr th:only-of-type {\n",
       "        vertical-align: middle;\n",
       "    }\n",
       "\n",
       "    .dataframe tbody tr th {\n",
       "        vertical-align: top;\n",
       "    }\n",
       "\n",
       "    .dataframe thead th {\n",
       "        text-align: right;\n",
       "    }\n",
       "</style>\n",
       "<table border=\"1\" class=\"dataframe\">\n",
       "  <thead>\n",
       "    <tr style=\"text-align: right;\">\n",
       "      <th></th>\n",
       "      <th>action</th>\n",
       "      <th>frequency</th>\n",
       "      <th>type_condition</th>\n",
       "      <th>content_condition</th>\n",
       "      <th>composite_conditions</th>\n",
       "      <th>type_action</th>\n",
       "    </tr>\n",
       "  </thead>\n",
       "  <tbody>\n",
       "    <tr>\n",
       "      <th>154</th>\n",
       "      <td>TakeAPhotoWeightChange</td>\n",
       "      <td>973</td>\n",
       "      <td>[Data integrity]</td>\n",
       "      <td>[State/status conditions]</td>\n",
       "      <td></td>\n",
       "      <td>Integration</td>\n",
       "    </tr>\n",
       "    <tr>\n",
       "      <th>156</th>\n",
       "      <td>updateStatusMissingPackage</td>\n",
       "      <td>929</td>\n",
       "      <td>[Data integrity]</td>\n",
       "      <td>[State/status conditions, Authentication/Autho...</td>\n",
       "      <td></td>\n",
       "      <td>Transformation</td>\n",
       "    </tr>\n",
       "    <tr>\n",
       "      <th>157</th>\n",
       "      <td>updateTmpDeliveredPostOffice</td>\n",
       "      <td>763</td>\n",
       "      <td>[Data integrity]</td>\n",
       "      <td>[State/status conditions]</td>\n",
       "      <td></td>\n",
       "      <td>Transformation</td>\n",
       "    </tr>\n",
       "    <tr>\n",
       "      <th>158</th>\n",
       "      <td>confirmTmpDeliveredPostOffice</td>\n",
       "      <td>763</td>\n",
       "      <td>[Data integrity]</td>\n",
       "      <td>[State/status conditions]</td>\n",
       "      <td></td>\n",
       "      <td>Transformation</td>\n",
       "    </tr>\n",
       "    <tr>\n",
       "      <th>159</th>\n",
       "      <td>approvedPackage</td>\n",
       "      <td>749</td>\n",
       "      <td>[Data integrity]</td>\n",
       "      <td>[State/status conditions]</td>\n",
       "      <td></td>\n",
       "      <td>Transformation</td>\n",
       "    </tr>\n",
       "    <tr>\n",
       "      <th>...</th>\n",
       "      <td>...</td>\n",
       "      <td>...</td>\n",
       "      <td>...</td>\n",
       "      <td>...</td>\n",
       "      <td>...</td>\n",
       "      <td>...</td>\n",
       "    </tr>\n",
       "    <tr>\n",
       "      <th>254</th>\n",
       "      <td>TakeAdditionalPhotoAppearancePackageFailed</td>\n",
       "      <td>4</td>\n",
       "      <td>[Data integrity]</td>\n",
       "      <td>[State/status conditions]</td>\n",
       "      <td></td>\n",
       "      <td>Integration</td>\n",
       "    </tr>\n",
       "    <tr>\n",
       "      <th>256</th>\n",
       "      <td>assignDeliverCodForPackage</td>\n",
       "      <td>4</td>\n",
       "      <td>[Existence check, Data integrity]</td>\n",
       "      <td>[State/status conditions]</td>\n",
       "      <td></td>\n",
       "      <td>Transformation</td>\n",
       "    </tr>\n",
       "    <tr>\n",
       "      <th>260</th>\n",
       "      <td>changePickAddress</td>\n",
       "      <td>3</td>\n",
       "      <td>[Data integrity, Data format, Existence check]</td>\n",
       "      <td>[Business rule conditions]</td>\n",
       "      <td></td>\n",
       "      <td>Transformation</td>\n",
       "    </tr>\n",
       "    <tr>\n",
       "      <th>261</th>\n",
       "      <td>updateDelayDeliveringByPostOffice</td>\n",
       "      <td>3</td>\n",
       "      <td>[Data integrity]</td>\n",
       "      <td>[State/status conditions]</td>\n",
       "      <td></td>\n",
       "      <td>Transformation</td>\n",
       "    </tr>\n",
       "    <tr>\n",
       "      <th>262</th>\n",
       "      <td>LosePackageByPostOffice</td>\n",
       "      <td>2</td>\n",
       "      <td>[Existence check, Data integrity, Timing condi...</td>\n",
       "      <td>[State/status conditions]</td>\n",
       "      <td></td>\n",
       "      <td>Integration</td>\n",
       "    </tr>\n",
       "  </tbody>\n",
       "</table>\n",
       "<p>66 rows × 6 columns</p>\n",
       "</div>"
      ],
      "text/plain": [
       "                                         action  frequency  \\\n",
       "154                      TakeAPhotoWeightChange        973   \n",
       "156                  updateStatusMissingPackage        929   \n",
       "157                updateTmpDeliveredPostOffice        763   \n",
       "158               confirmTmpDeliveredPostOffice        763   \n",
       "159                             approvedPackage        749   \n",
       "..                                          ...        ...   \n",
       "254  TakeAdditionalPhotoAppearancePackageFailed          4   \n",
       "256                  assignDeliverCodForPackage          4   \n",
       "260                           changePickAddress          3   \n",
       "261           updateDelayDeliveringByPostOffice          3   \n",
       "262                     LosePackageByPostOffice          2   \n",
       "\n",
       "                                        type_condition  \\\n",
       "154                                   [Data integrity]   \n",
       "156                                   [Data integrity]   \n",
       "157                                   [Data integrity]   \n",
       "158                                   [Data integrity]   \n",
       "159                                   [Data integrity]   \n",
       "..                                                 ...   \n",
       "254                                   [Data integrity]   \n",
       "256                  [Existence check, Data integrity]   \n",
       "260     [Data integrity, Data format, Existence check]   \n",
       "261                                   [Data integrity]   \n",
       "262  [Existence check, Data integrity, Timing condi...   \n",
       "\n",
       "                                     content_condition composite_conditions  \\\n",
       "154                          [State/status conditions]                        \n",
       "156  [State/status conditions, Authentication/Autho...                        \n",
       "157                          [State/status conditions]                        \n",
       "158                          [State/status conditions]                        \n",
       "159                          [State/status conditions]                        \n",
       "..                                                 ...                  ...   \n",
       "254                          [State/status conditions]                        \n",
       "256                          [State/status conditions]                        \n",
       "260                         [Business rule conditions]                        \n",
       "261                          [State/status conditions]                        \n",
       "262                          [State/status conditions]                        \n",
       "\n",
       "        type_action  \n",
       "154     Integration  \n",
       "156  Transformation  \n",
       "157  Transformation  \n",
       "158  Transformation  \n",
       "159  Transformation  \n",
       "..              ...  \n",
       "254     Integration  \n",
       "256  Transformation  \n",
       "260  Transformation  \n",
       "261  Transformation  \n",
       "262     Integration  \n",
       "\n",
       "[66 rows x 6 columns]"
      ]
     },
     "execution_count": 99,
     "metadata": {},
     "output_type": "execute_result"
    }
   ],
   "source": [
    "x= auto_candidates[auto_candidates[\"type_condition\"].map(lambda x: 'Data integrity' in str(x))]\n",
    "x\n"
   ]
  },
  {
   "cell_type": "code",
   "execution_count": 100,
   "id": "5cf084dc",
   "metadata": {},
   "outputs": [
    {
     "data": {
      "application/vnd.microsoft.datawrangler.viewer.v0+json": {
       "columns": [
        {
         "name": "composite_conditions",
         "rawType": "object",
         "type": "string"
        },
        {
         "name": "count",
         "rawType": "int64",
         "type": "integer"
        }
       ],
       "ref": "cae96f92-7f0e-49f1-90a1-8012de72a64b",
       "rows": [
        [
         "",
         "103"
        ],
        [
         "AND",
         "10"
        ]
       ],
       "shape": {
        "columns": 1,
        "rows": 2
       }
      },
      "text/plain": [
       "composite_conditions\n",
       "       103\n",
       "AND     10\n",
       "Name: count, dtype: int64"
      ]
     },
     "execution_count": 100,
     "metadata": {},
     "output_type": "execute_result"
    }
   ],
   "source": [
    "auto_candidates['composite_conditions'].value_counts()\n"
   ]
  }
 ],
 "metadata": {
  "kernelspec": {
   "display_name": "base",
   "language": "python",
   "name": "python3"
  },
  "language_info": {
   "codemirror_mode": {
    "name": "ipython",
    "version": 3
   },
   "file_extension": ".py",
   "mimetype": "text/x-python",
   "name": "python",
   "nbconvert_exporter": "python",
   "pygments_lexer": "ipython3",
   "version": "3.12.7"
  }
 },
 "nbformat": 4,
 "nbformat_minor": 5
}
